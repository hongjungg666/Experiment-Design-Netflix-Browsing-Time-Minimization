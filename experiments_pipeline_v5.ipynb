{
 "cells": [
  {
   "cell_type": "code",
   "execution_count": 10,
   "id": "602b978f",
   "metadata": {},
   "outputs": [],
   "source": [
    "import os\n",
    "import pandas as pd\n",
    "import statsmodels.formula.api as smf\n",
    "import statsmodels.api as sm\n",
    "import matplotlib.pyplot as plt \n",
    "import numpy as np\n",
    "import statsmodels.stats.multitest as smsm\n",
    "from scipy import stats"
   ]
  },
  {
   "cell_type": "markdown",
   "id": "84aa93c0",
   "metadata": {},
   "source": [
    "## Initial Screening of Factors"
   ]
  },
  {
   "cell_type": "code",
   "execution_count": 2,
   "id": "81ab5ba5",
   "metadata": {},
   "outputs": [],
   "source": [
    "project_df = pd.read_csv('RESULTS_azxcvbnm_2022-01-16.csv')"
   ]
  },
  {
   "cell_type": "code",
   "execution_count": 3,
   "id": "908fd42a",
   "metadata": {},
   "outputs": [
    {
     "data": {
      "text/html": [
       "<div>\n",
       "<style scoped>\n",
       "    .dataframe tbody tr th:only-of-type {\n",
       "        vertical-align: middle;\n",
       "    }\n",
       "\n",
       "    .dataframe tbody tr th {\n",
       "        vertical-align: top;\n",
       "    }\n",
       "\n",
       "    .dataframe thead th {\n",
       "        text-align: right;\n",
       "    }\n",
       "</style>\n",
       "<table border=\"1\" class=\"dataframe\">\n",
       "  <thead>\n",
       "    <tr style=\"text-align: right;\">\n",
       "      <th></th>\n",
       "      <th>Prev.Length</th>\n",
       "      <th>Match.Score</th>\n",
       "      <th>Tile.Size</th>\n",
       "      <th>Prev.Type</th>\n",
       "      <th>Browse.Time</th>\n",
       "    </tr>\n",
       "  </thead>\n",
       "  <tbody>\n",
       "    <tr>\n",
       "      <th>0</th>\n",
       "      <td>35</td>\n",
       "      <td>5</td>\n",
       "      <td>0.15</td>\n",
       "      <td>TT</td>\n",
       "      <td>19.874719</td>\n",
       "    </tr>\n",
       "    <tr>\n",
       "      <th>1</th>\n",
       "      <td>115</td>\n",
       "      <td>5</td>\n",
       "      <td>0.15</td>\n",
       "      <td>TT</td>\n",
       "      <td>19.366768</td>\n",
       "    </tr>\n",
       "    <tr>\n",
       "      <th>2</th>\n",
       "      <td>35</td>\n",
       "      <td>95</td>\n",
       "      <td>0.15</td>\n",
       "      <td>TT</td>\n",
       "      <td>15.143392</td>\n",
       "    </tr>\n",
       "    <tr>\n",
       "      <th>3</th>\n",
       "      <td>115</td>\n",
       "      <td>95</td>\n",
       "      <td>0.15</td>\n",
       "      <td>TT</td>\n",
       "      <td>21.411977</td>\n",
       "    </tr>\n",
       "    <tr>\n",
       "      <th>4</th>\n",
       "      <td>35</td>\n",
       "      <td>5</td>\n",
       "      <td>0.45</td>\n",
       "      <td>TT</td>\n",
       "      <td>17.890835</td>\n",
       "    </tr>\n",
       "    <tr>\n",
       "      <th>...</th>\n",
       "      <td>...</td>\n",
       "      <td>...</td>\n",
       "      <td>...</td>\n",
       "      <td>...</td>\n",
       "      <td>...</td>\n",
       "    </tr>\n",
       "    <tr>\n",
       "      <th>1595</th>\n",
       "      <td>115</td>\n",
       "      <td>95</td>\n",
       "      <td>0.15</td>\n",
       "      <td>AC</td>\n",
       "      <td>25.463533</td>\n",
       "    </tr>\n",
       "    <tr>\n",
       "      <th>1596</th>\n",
       "      <td>35</td>\n",
       "      <td>5</td>\n",
       "      <td>0.45</td>\n",
       "      <td>AC</td>\n",
       "      <td>23.154255</td>\n",
       "    </tr>\n",
       "    <tr>\n",
       "      <th>1597</th>\n",
       "      <td>115</td>\n",
       "      <td>5</td>\n",
       "      <td>0.45</td>\n",
       "      <td>AC</td>\n",
       "      <td>25.098558</td>\n",
       "    </tr>\n",
       "    <tr>\n",
       "      <th>1598</th>\n",
       "      <td>35</td>\n",
       "      <td>95</td>\n",
       "      <td>0.45</td>\n",
       "      <td>AC</td>\n",
       "      <td>20.951288</td>\n",
       "    </tr>\n",
       "    <tr>\n",
       "      <th>1599</th>\n",
       "      <td>115</td>\n",
       "      <td>95</td>\n",
       "      <td>0.45</td>\n",
       "      <td>AC</td>\n",
       "      <td>25.487501</td>\n",
       "    </tr>\n",
       "  </tbody>\n",
       "</table>\n",
       "<p>1600 rows × 5 columns</p>\n",
       "</div>"
      ],
      "text/plain": [
       "      Prev.Length  Match.Score  Tile.Size Prev.Type  Browse.Time\n",
       "0              35            5       0.15        TT    19.874719\n",
       "1             115            5       0.15        TT    19.366768\n",
       "2              35           95       0.15        TT    15.143392\n",
       "3             115           95       0.15        TT    21.411977\n",
       "4              35            5       0.45        TT    17.890835\n",
       "...           ...          ...        ...       ...          ...\n",
       "1595          115           95       0.15        AC    25.463533\n",
       "1596           35            5       0.45        AC    23.154255\n",
       "1597          115            5       0.45        AC    25.098558\n",
       "1598           35           95       0.45        AC    20.951288\n",
       "1599          115           95       0.45        AC    25.487501\n",
       "\n",
       "[1600 rows x 5 columns]"
      ]
     },
     "execution_count": 3,
     "metadata": {},
     "output_type": "execute_result"
    }
   ],
   "source": [
    "project_df"
   ]
  },
  {
   "cell_type": "code",
   "execution_count": 5,
   "id": "754496e9",
   "metadata": {},
   "outputs": [],
   "source": [
    "project_df.rename(columns = {'Tile.Size': 'Tile_size', 'Prev.Type':'Prev_type', \n",
    "                             'Browse.Time': 'Browse_time','Prev.Length':'Prev_Length'\n",
    "                            ,'Match.Score':'Match_Score'}, inplace = True)"
   ]
  },
  {
   "cell_type": "markdown",
   "id": "b9ab0956",
   "metadata": {},
   "source": [
    "### Testing for previous length"
   ]
  },
  {
   "cell_type": "markdown",
   "id": "48f1f22d",
   "metadata": {},
   "source": [
    "#### Full model"
   ]
  },
  {
   "cell_type": "code",
   "execution_count": 9,
   "id": "7eb33e3d",
   "metadata": {
    "scrolled": true
   },
   "outputs": [
    {
     "data": {
      "text/html": [
       "<table class=\"simpletable\">\n",
       "<caption>OLS Regression Results</caption>\n",
       "<tr>\n",
       "  <th>Dep. Variable:</th>       <td>Browse_time</td>   <th>  R-squared:         </th> <td>   0.913</td>\n",
       "</tr>\n",
       "<tr>\n",
       "  <th>Model:</th>                   <td>OLS</td>       <th>  Adj. R-squared:    </th> <td>   0.912</td>\n",
       "</tr>\n",
       "<tr>\n",
       "  <th>Method:</th>             <td>Least Squares</td>  <th>  F-statistic:       </th> <td>   1111.</td>\n",
       "</tr>\n",
       "<tr>\n",
       "  <th>Date:</th>             <td>Sun, 16 Jan 2022</td> <th>  Prob (F-statistic):</th>  <td>  0.00</td> \n",
       "</tr>\n",
       "<tr>\n",
       "  <th>Time:</th>                 <td>16:39:43</td>     <th>  Log-Likelihood:    </th> <td> -2292.3</td>\n",
       "</tr>\n",
       "<tr>\n",
       "  <th>No. Observations:</th>      <td>  1600</td>      <th>  AIC:               </th> <td>   4617.</td>\n",
       "</tr>\n",
       "<tr>\n",
       "  <th>Df Residuals:</th>          <td>  1584</td>      <th>  BIC:               </th> <td>   4703.</td>\n",
       "</tr>\n",
       "<tr>\n",
       "  <th>Df Model:</th>              <td>    15</td>      <th>                     </th>     <td> </td>   \n",
       "</tr>\n",
       "<tr>\n",
       "  <th>Covariance Type:</th>      <td>nonrobust</td>    <th>                     </th>     <td> </td>   \n",
       "</tr>\n",
       "</table>\n",
       "<table class=\"simpletable\">\n",
       "<tr>\n",
       "                                           <td></td>                                             <th>coef</th>     <th>std err</th>      <th>t</th>      <th>P>|t|</th>  <th>[0.025</th>    <th>0.975]</th>  \n",
       "</tr>\n",
       "<tr>\n",
       "  <th>Intercept</th>                                                                          <td>   24.9892</td> <td>    0.102</td> <td>  245.249</td> <td> 0.000</td> <td>   24.789</td> <td>   25.189</td>\n",
       "</tr>\n",
       "<tr>\n",
       "  <th>C(Prev_Length)[T.115]</th>                                                              <td>   -0.0571</td> <td>    0.144</td> <td>   -0.396</td> <td> 0.692</td> <td>   -0.340</td> <td>    0.226</td>\n",
       "</tr>\n",
       "<tr>\n",
       "  <th>C(Match_Score)[T.95]</th>                                                               <td>   -4.9591</td> <td>    0.144</td> <td>  -34.414</td> <td> 0.000</td> <td>   -5.242</td> <td>   -4.676</td>\n",
       "</tr>\n",
       "<tr>\n",
       "  <th>C(Tile_size)[T.0.45]</th>                                                               <td>    0.0553</td> <td>    0.144</td> <td>    0.384</td> <td> 0.701</td> <td>   -0.227</td> <td>    0.338</td>\n",
       "</tr>\n",
       "<tr>\n",
       "  <th>C(Prev_type)[T.TT]</th>                                                                 <td>   -5.0479</td> <td>    0.144</td> <td>  -35.031</td> <td> 0.000</td> <td>   -5.331</td> <td>   -4.765</td>\n",
       "</tr>\n",
       "<tr>\n",
       "  <th>C(Prev_Length)[T.115]:C(Match_Score)[T.95]</th>                                         <td>    4.8342</td> <td>    0.204</td> <td>   23.722</td> <td> 0.000</td> <td>    4.434</td> <td>    5.234</td>\n",
       "</tr>\n",
       "<tr>\n",
       "  <th>C(Prev_Length)[T.115]:C(Tile_size)[T.0.45]</th>                                         <td>    0.0073</td> <td>    0.204</td> <td>    0.036</td> <td> 0.972</td> <td>   -0.392</td> <td>    0.407</td>\n",
       "</tr>\n",
       "<tr>\n",
       "  <th>C(Match_Score)[T.95]:C(Tile_size)[T.0.45]</th>                                          <td>   -0.0892</td> <td>    0.204</td> <td>   -0.438</td> <td> 0.662</td> <td>   -0.489</td> <td>    0.311</td>\n",
       "</tr>\n",
       "<tr>\n",
       "  <th>C(Prev_Length)[T.115]:C(Prev_type)[T.TT]</th>                                           <td>    0.1651</td> <td>    0.204</td> <td>    0.810</td> <td> 0.418</td> <td>   -0.235</td> <td>    0.565</td>\n",
       "</tr>\n",
       "<tr>\n",
       "  <th>C(Match_Score)[T.95]:C(Prev_type)[T.TT]</th>                                            <td>    0.0894</td> <td>    0.204</td> <td>    0.439</td> <td> 0.661</td> <td>   -0.310</td> <td>    0.489</td>\n",
       "</tr>\n",
       "<tr>\n",
       "  <th>C(Tile_size)[T.0.45]:C(Prev_type)[T.TT]</th>                                            <td>   -0.1043</td> <td>    0.204</td> <td>   -0.512</td> <td> 0.609</td> <td>   -0.504</td> <td>    0.295</td>\n",
       "</tr>\n",
       "<tr>\n",
       "  <th>C(Prev_Length)[T.115]:C(Match_Score)[T.95]:C(Tile_size)[T.0.45]</th>                    <td>   -0.0168</td> <td>    0.288</td> <td>   -0.058</td> <td> 0.953</td> <td>   -0.582</td> <td>    0.548</td>\n",
       "</tr>\n",
       "<tr>\n",
       "  <th>C(Prev_Length)[T.115]:C(Match_Score)[T.95]:C(Prev_type)[T.TT]</th>                      <td>   -0.4991</td> <td>    0.288</td> <td>   -1.732</td> <td> 0.084</td> <td>   -1.064</td> <td>    0.066</td>\n",
       "</tr>\n",
       "<tr>\n",
       "  <th>C(Prev_Length)[T.115]:C(Tile_size)[T.0.45]:C(Prev_type)[T.TT]</th>                      <td>   -0.0122</td> <td>    0.288</td> <td>   -0.042</td> <td> 0.966</td> <td>   -0.577</td> <td>    0.553</td>\n",
       "</tr>\n",
       "<tr>\n",
       "  <th>C(Match_Score)[T.95]:C(Tile_size)[T.0.45]:C(Prev_type)[T.TT]</th>                       <td>    0.0975</td> <td>    0.288</td> <td>    0.338</td> <td> 0.735</td> <td>   -0.468</td> <td>    0.663</td>\n",
       "</tr>\n",
       "<tr>\n",
       "  <th>C(Prev_Length)[T.115]:C(Match_Score)[T.95]:C(Tile_size)[T.0.45]:C(Prev_type)[T.TT]</th> <td>    0.1615</td> <td>    0.408</td> <td>    0.396</td> <td> 0.692</td> <td>   -0.638</td> <td>    0.961</td>\n",
       "</tr>\n",
       "</table>\n",
       "<table class=\"simpletable\">\n",
       "<tr>\n",
       "  <th>Omnibus:</th>       <td> 0.488</td> <th>  Durbin-Watson:     </th> <td>   2.025</td>\n",
       "</tr>\n",
       "<tr>\n",
       "  <th>Prob(Omnibus):</th> <td> 0.784</td> <th>  Jarque-Bera (JB):  </th> <td>   0.561</td>\n",
       "</tr>\n",
       "<tr>\n",
       "  <th>Skew:</th>          <td>-0.008</td> <th>  Prob(JB):          </th> <td>   0.756</td>\n",
       "</tr>\n",
       "<tr>\n",
       "  <th>Kurtosis:</th>      <td> 2.910</td> <th>  Cond. No.          </th> <td>    47.0</td>\n",
       "</tr>\n",
       "</table><br/><br/>Notes:<br/>[1] Standard Errors assume that the covariance matrix of the errors is correctly specified."
      ],
      "text/plain": [
       "<class 'statsmodels.iolib.summary.Summary'>\n",
       "\"\"\"\n",
       "                            OLS Regression Results                            \n",
       "==============================================================================\n",
       "Dep. Variable:            Browse_time   R-squared:                       0.913\n",
       "Model:                            OLS   Adj. R-squared:                  0.912\n",
       "Method:                 Least Squares   F-statistic:                     1111.\n",
       "Date:                Sun, 16 Jan 2022   Prob (F-statistic):               0.00\n",
       "Time:                        16:39:43   Log-Likelihood:                -2292.3\n",
       "No. Observations:                1600   AIC:                             4617.\n",
       "Df Residuals:                    1584   BIC:                             4703.\n",
       "Df Model:                          15                                         \n",
       "Covariance Type:            nonrobust                                         \n",
       "======================================================================================================================================================\n",
       "                                                                                         coef    std err          t      P>|t|      [0.025      0.975]\n",
       "------------------------------------------------------------------------------------------------------------------------------------------------------\n",
       "Intercept                                                                             24.9892      0.102    245.249      0.000      24.789      25.189\n",
       "C(Prev_Length)[T.115]                                                                 -0.0571      0.144     -0.396      0.692      -0.340       0.226\n",
       "C(Match_Score)[T.95]                                                                  -4.9591      0.144    -34.414      0.000      -5.242      -4.676\n",
       "C(Tile_size)[T.0.45]                                                                   0.0553      0.144      0.384      0.701      -0.227       0.338\n",
       "C(Prev_type)[T.TT]                                                                    -5.0479      0.144    -35.031      0.000      -5.331      -4.765\n",
       "C(Prev_Length)[T.115]:C(Match_Score)[T.95]                                             4.8342      0.204     23.722      0.000       4.434       5.234\n",
       "C(Prev_Length)[T.115]:C(Tile_size)[T.0.45]                                             0.0073      0.204      0.036      0.972      -0.392       0.407\n",
       "C(Match_Score)[T.95]:C(Tile_size)[T.0.45]                                             -0.0892      0.204     -0.438      0.662      -0.489       0.311\n",
       "C(Prev_Length)[T.115]:C(Prev_type)[T.TT]                                               0.1651      0.204      0.810      0.418      -0.235       0.565\n",
       "C(Match_Score)[T.95]:C(Prev_type)[T.TT]                                                0.0894      0.204      0.439      0.661      -0.310       0.489\n",
       "C(Tile_size)[T.0.45]:C(Prev_type)[T.TT]                                               -0.1043      0.204     -0.512      0.609      -0.504       0.295\n",
       "C(Prev_Length)[T.115]:C(Match_Score)[T.95]:C(Tile_size)[T.0.45]                       -0.0168      0.288     -0.058      0.953      -0.582       0.548\n",
       "C(Prev_Length)[T.115]:C(Match_Score)[T.95]:C(Prev_type)[T.TT]                         -0.4991      0.288     -1.732      0.084      -1.064       0.066\n",
       "C(Prev_Length)[T.115]:C(Tile_size)[T.0.45]:C(Prev_type)[T.TT]                         -0.0122      0.288     -0.042      0.966      -0.577       0.553\n",
       "C(Match_Score)[T.95]:C(Tile_size)[T.0.45]:C(Prev_type)[T.TT]                           0.0975      0.288      0.338      0.735      -0.468       0.663\n",
       "C(Prev_Length)[T.115]:C(Match_Score)[T.95]:C(Tile_size)[T.0.45]:C(Prev_type)[T.TT]     0.1615      0.408      0.396      0.692      -0.638       0.961\n",
       "==============================================================================\n",
       "Omnibus:                        0.488   Durbin-Watson:                   2.025\n",
       "Prob(Omnibus):                  0.784   Jarque-Bera (JB):                0.561\n",
       "Skew:                          -0.008   Prob(JB):                        0.756\n",
       "Kurtosis:                       2.910   Cond. No.                         47.0\n",
       "==============================================================================\n",
       "\n",
       "Notes:\n",
       "[1] Standard Errors assume that the covariance matrix of the errors is correctly specified.\n",
       "\"\"\""
      ]
     },
     "execution_count": 9,
     "metadata": {},
     "output_type": "execute_result"
    }
   ],
   "source": [
    "model = smf.ols('Browse_time ~ C(Prev_Length) * C(Match_Score) * C(Tile_size) * C(Prev_type)', data = project_df).fit()\n",
    "model.summary()"
   ]
  },
  {
   "cell_type": "markdown",
   "id": "bd5488f9",
   "metadata": {},
   "source": [
    "#### reduced model"
   ]
  },
  {
   "cell_type": "code",
   "execution_count": 98,
   "id": "56ec7b4b",
   "metadata": {},
   "outputs": [
    {
     "data": {
      "text/html": [
       "<table class=\"simpletable\">\n",
       "<caption>OLS Regression Results</caption>\n",
       "<tr>\n",
       "  <th>Dep. Variable:</th>       <td>Browse_time</td>   <th>  R-squared:         </th> <td>   0.800</td>\n",
       "</tr>\n",
       "<tr>\n",
       "  <th>Model:</th>                   <td>OLS</td>       <th>  Adj. R-squared:    </th> <td>   0.800</td>\n",
       "</tr>\n",
       "<tr>\n",
       "  <th>Method:</th>             <td>Least Squares</td>  <th>  F-statistic:       </th> <td>   1599.</td>\n",
       "</tr>\n",
       "<tr>\n",
       "  <th>Date:</th>             <td>Sun, 16 Jan 2022</td> <th>  Prob (F-statistic):</th>  <td>  0.00</td> \n",
       "</tr>\n",
       "<tr>\n",
       "  <th>Time:</th>                 <td>19:42:24</td>     <th>  Log-Likelihood:    </th> <td> -2958.6</td>\n",
       "</tr>\n",
       "<tr>\n",
       "  <th>No. Observations:</th>      <td>  1600</td>      <th>  AIC:               </th> <td>   5927.</td>\n",
       "</tr>\n",
       "<tr>\n",
       "  <th>Df Residuals:</th>          <td>  1595</td>      <th>  BIC:               </th> <td>   5954.</td>\n",
       "</tr>\n",
       "<tr>\n",
       "  <th>Df Model:</th>              <td>     4</td>      <th>                     </th>     <td> </td>   \n",
       "</tr>\n",
       "<tr>\n",
       "  <th>Covariance Type:</th>      <td>nonrobust</td>    <th>                     </th>     <td> </td>   \n",
       "</tr>\n",
       "</table>\n",
       "<table class=\"simpletable\">\n",
       "<tr>\n",
       "            <td></td>               <th>coef</th>     <th>std err</th>      <th>t</th>      <th>P>|t|</th>  <th>[0.025</th>    <th>0.975]</th>  \n",
       "</tr>\n",
       "<tr>\n",
       "  <th>Intercept</th>             <td>   23.8410</td> <td>    0.086</td> <td>  276.950</td> <td> 0.000</td> <td>   23.672</td> <td>   24.010</td>\n",
       "</tr>\n",
       "<tr>\n",
       "  <th>C(Prev_Length)[T.115]</th> <td>    2.3343</td> <td>    0.077</td> <td>   30.317</td> <td> 0.000</td> <td>    2.183</td> <td>    2.485</td>\n",
       "</tr>\n",
       "<tr>\n",
       "  <th>C(Match_Score)[T.95]</th>  <td>   -2.6263</td> <td>    0.077</td> <td>  -34.109</td> <td> 0.000</td> <td>   -2.777</td> <td>   -2.475</td>\n",
       "</tr>\n",
       "<tr>\n",
       "  <th>C(Tile_size)[T.0.45]</th>  <td>   -0.0005</td> <td>    0.077</td> <td>   -0.006</td> <td> 0.995</td> <td>   -0.152</td> <td>    0.151</td>\n",
       "</tr>\n",
       "<tr>\n",
       "  <th>C(Prev_type)[T.TT]</th>    <td>   -5.0560</td> <td>    0.077</td> <td>  -65.666</td> <td> 0.000</td> <td>   -5.207</td> <td>   -4.905</td>\n",
       "</tr>\n",
       "</table>\n",
       "<table class=\"simpletable\">\n",
       "<tr>\n",
       "  <th>Omnibus:</th>       <td>77.762</td> <th>  Durbin-Watson:     </th> <td>   2.011</td>\n",
       "</tr>\n",
       "<tr>\n",
       "  <th>Prob(Omnibus):</th> <td> 0.000</td> <th>  Jarque-Bera (JB):  </th> <td>  31.617</td>\n",
       "</tr>\n",
       "<tr>\n",
       "  <th>Skew:</th>          <td>-0.016</td> <th>  Prob(JB):          </th> <td>1.36e-07</td>\n",
       "</tr>\n",
       "<tr>\n",
       "  <th>Kurtosis:</th>      <td> 2.312</td> <th>  Cond. No.          </th> <td>    4.27</td>\n",
       "</tr>\n",
       "</table><br/><br/>Notes:<br/>[1] Standard Errors assume that the covariance matrix of the errors is correctly specified."
      ],
      "text/plain": [
       "<class 'statsmodels.iolib.summary.Summary'>\n",
       "\"\"\"\n",
       "                            OLS Regression Results                            \n",
       "==============================================================================\n",
       "Dep. Variable:            Browse_time   R-squared:                       0.800\n",
       "Model:                            OLS   Adj. R-squared:                  0.800\n",
       "Method:                 Least Squares   F-statistic:                     1599.\n",
       "Date:                Sun, 16 Jan 2022   Prob (F-statistic):               0.00\n",
       "Time:                        19:42:24   Log-Likelihood:                -2958.6\n",
       "No. Observations:                1600   AIC:                             5927.\n",
       "Df Residuals:                    1595   BIC:                             5954.\n",
       "Df Model:                           4                                         \n",
       "Covariance Type:            nonrobust                                         \n",
       "=========================================================================================\n",
       "                            coef    std err          t      P>|t|      [0.025      0.975]\n",
       "-----------------------------------------------------------------------------------------\n",
       "Intercept                23.8410      0.086    276.950      0.000      23.672      24.010\n",
       "C(Prev_Length)[T.115]     2.3343      0.077     30.317      0.000       2.183       2.485\n",
       "C(Match_Score)[T.95]     -2.6263      0.077    -34.109      0.000      -2.777      -2.475\n",
       "C(Tile_size)[T.0.45]     -0.0005      0.077     -0.006      0.995      -0.152       0.151\n",
       "C(Prev_type)[T.TT]       -5.0560      0.077    -65.666      0.000      -5.207      -4.905\n",
       "==============================================================================\n",
       "Omnibus:                       77.762   Durbin-Watson:                   2.011\n",
       "Prob(Omnibus):                  0.000   Jarque-Bera (JB):               31.617\n",
       "Skew:                          -0.016   Prob(JB):                     1.36e-07\n",
       "Kurtosis:                       2.312   Cond. No.                         4.27\n",
       "==============================================================================\n",
       "\n",
       "Notes:\n",
       "[1] Standard Errors assume that the covariance matrix of the errors is correctly specified.\n",
       "\"\"\""
      ]
     },
     "execution_count": 98,
     "metadata": {},
     "output_type": "execute_result"
    }
   ],
   "source": [
    "model_red = smf.ols('Browse_time ~ C(Prev_Length) + C(Match_Score) + C(Tile_size) + C(Prev_type)', data = project_df).fit()\n",
    "model_red.summary()"
   ]
  },
  {
   "cell_type": "code",
   "execution_count": 99,
   "id": "ac600160",
   "metadata": {},
   "outputs": [
    {
     "data": {
      "text/html": [
       "<div>\n",
       "<style scoped>\n",
       "    .dataframe tbody tr th:only-of-type {\n",
       "        vertical-align: middle;\n",
       "    }\n",
       "\n",
       "    .dataframe tbody tr th {\n",
       "        vertical-align: top;\n",
       "    }\n",
       "\n",
       "    .dataframe thead th {\n",
       "        text-align: right;\n",
       "    }\n",
       "</style>\n",
       "<table border=\"1\" class=\"dataframe\">\n",
       "  <thead>\n",
       "    <tr style=\"text-align: right;\">\n",
       "      <th></th>\n",
       "      <th>df_resid</th>\n",
       "      <th>ssr</th>\n",
       "      <th>df_diff</th>\n",
       "      <th>ss_diff</th>\n",
       "      <th>F</th>\n",
       "      <th>Pr(&gt;F)</th>\n",
       "    </tr>\n",
       "  </thead>\n",
       "  <tbody>\n",
       "    <tr>\n",
       "      <th>0</th>\n",
       "      <td>1595.0</td>\n",
       "      <td>3782.312371</td>\n",
       "      <td>0.0</td>\n",
       "      <td>NaN</td>\n",
       "      <td>NaN</td>\n",
       "      <td>NaN</td>\n",
       "    </tr>\n",
       "    <tr>\n",
       "      <th>1</th>\n",
       "      <td>1584.0</td>\n",
       "      <td>1644.544595</td>\n",
       "      <td>11.0</td>\n",
       "      <td>2137.767776</td>\n",
       "      <td>187.187724</td>\n",
       "      <td>5.537243e-277</td>\n",
       "    </tr>\n",
       "  </tbody>\n",
       "</table>\n",
       "</div>"
      ],
      "text/plain": [
       "   df_resid          ssr  df_diff      ss_diff           F         Pr(>F)\n",
       "0    1595.0  3782.312371      0.0          NaN         NaN            NaN\n",
       "1    1584.0  1644.544595     11.0  2137.767776  187.187724  5.537243e-277"
      ]
     },
     "execution_count": 99,
     "metadata": {},
     "output_type": "execute_result"
    }
   ],
   "source": [
    "# model_red = smf.ols('Browse_time ~ C(Prev_Length) + C(Match_Score) + C(Tile_size) + C(Prev_type)', data = data).fit()\n",
    "sm.stats.anova_lm(model_red, model)"
   ]
  },
  {
   "cell_type": "markdown",
   "id": "07297678",
   "metadata": {},
   "source": [
    "<li>This very small p-value leads us to reject the null hypothesis above, indicating that the frequency-by-type interaction effect is significant.\n",
    "\n"
   ]
  },
  {
   "cell_type": "code",
   "execution_count": 10,
   "id": "0d60b4da",
   "metadata": {},
   "outputs": [
    {
     "data": {
      "text/html": [
       "<table class=\"simpletable\">\n",
       "<caption>OLS Regression Results</caption>\n",
       "<tr>\n",
       "  <th>Dep. Variable:</th>       <td>Browse_time</td>   <th>  R-squared:         </th> <td>   0.685</td>\n",
       "</tr>\n",
       "<tr>\n",
       "  <th>Model:</th>                   <td>OLS</td>       <th>  Adj. R-squared:    </th> <td>   0.684</td>\n",
       "</tr>\n",
       "<tr>\n",
       "  <th>Method:</th>             <td>Least Squares</td>  <th>  F-statistic:       </th> <td>   495.5</td>\n",
       "</tr>\n",
       "<tr>\n",
       "  <th>Date:</th>             <td>Sun, 16 Jan 2022</td> <th>  Prob (F-statistic):</th>  <td>  0.00</td> \n",
       "</tr>\n",
       "<tr>\n",
       "  <th>Time:</th>                 <td>16:39:47</td>     <th>  Log-Likelihood:    </th> <td> -3322.4</td>\n",
       "</tr>\n",
       "<tr>\n",
       "  <th>No. Observations:</th>      <td>  1600</td>      <th>  AIC:               </th> <td>   6661.</td>\n",
       "</tr>\n",
       "<tr>\n",
       "  <th>Df Residuals:</th>          <td>  1592</td>      <th>  BIC:               </th> <td>   6704.</td>\n",
       "</tr>\n",
       "<tr>\n",
       "  <th>Df Model:</th>              <td>     7</td>      <th>                     </th>     <td> </td>   \n",
       "</tr>\n",
       "<tr>\n",
       "  <th>Covariance Type:</th>      <td>nonrobust</td>    <th>                     </th>     <td> </td>   \n",
       "</tr>\n",
       "</table>\n",
       "<table class=\"simpletable\">\n",
       "<tr>\n",
       "                                <td></td>                                  <th>coef</th>     <th>std err</th>      <th>t</th>      <th>P>|t|</th>  <th>[0.025</th>    <th>0.975]</th>  \n",
       "</tr>\n",
       "<tr>\n",
       "  <th>Intercept</th>                                                    <td>   24.9607</td> <td>    0.137</td> <td>  182.431</td> <td> 0.000</td> <td>   24.692</td> <td>   25.229</td>\n",
       "</tr>\n",
       "<tr>\n",
       "  <th>C(Match_Score)[T.95]</th>                                         <td>   -2.5420</td> <td>    0.193</td> <td>  -13.137</td> <td> 0.000</td> <td>   -2.922</td> <td>   -2.162</td>\n",
       "</tr>\n",
       "<tr>\n",
       "  <th>C(Tile_size)[T.0.45]</th>                                         <td>    0.0590</td> <td>    0.193</td> <td>    0.305</td> <td> 0.761</td> <td>   -0.321</td> <td>    0.439</td>\n",
       "</tr>\n",
       "<tr>\n",
       "  <th>C(Prev_type)[T.TT]</th>                                           <td>   -4.9653</td> <td>    0.193</td> <td>  -25.661</td> <td> 0.000</td> <td>   -5.345</td> <td>   -4.586</td>\n",
       "</tr>\n",
       "<tr>\n",
       "  <th>C(Match_Score)[T.95]:C(Tile_size)[T.0.45]</th>                    <td>   -0.0976</td> <td>    0.274</td> <td>   -0.357</td> <td> 0.721</td> <td>   -0.634</td> <td>    0.439</td>\n",
       "</tr>\n",
       "<tr>\n",
       "  <th>C(Match_Score)[T.95]:C(Prev_type)[T.TT]</th>                      <td>   -0.1601</td> <td>    0.274</td> <td>   -0.585</td> <td> 0.559</td> <td>   -0.697</td> <td>    0.377</td>\n",
       "</tr>\n",
       "<tr>\n",
       "  <th>C(Tile_size)[T.0.45]:C(Prev_type)[T.TT]</th>                      <td>   -0.1104</td> <td>    0.274</td> <td>   -0.403</td> <td> 0.687</td> <td>   -0.647</td> <td>    0.426</td>\n",
       "</tr>\n",
       "<tr>\n",
       "  <th>C(Match_Score)[T.95]:C(Tile_size)[T.0.45]:C(Prev_type)[T.TT]</th> <td>    0.1782</td> <td>    0.387</td> <td>    0.461</td> <td> 0.645</td> <td>   -0.581</td> <td>    0.937</td>\n",
       "</tr>\n",
       "</table>\n",
       "<table class=\"simpletable\">\n",
       "<tr>\n",
       "  <th>Omnibus:</th>       <td>27.628</td> <th>  Durbin-Watson:     </th> <td>   2.737</td>\n",
       "</tr>\n",
       "<tr>\n",
       "  <th>Prob(Omnibus):</th> <td> 0.000</td> <th>  Jarque-Bera (JB):  </th> <td>  15.826</td>\n",
       "</tr>\n",
       "<tr>\n",
       "  <th>Skew:</th>          <td>-0.010</td> <th>  Prob(JB):          </th> <td>0.000366</td>\n",
       "</tr>\n",
       "<tr>\n",
       "  <th>Kurtosis:</th>      <td> 2.513</td> <th>  Cond. No.          </th> <td>    17.9</td>\n",
       "</tr>\n",
       "</table><br/><br/>Notes:<br/>[1] Standard Errors assume that the covariance matrix of the errors is correctly specified."
      ],
      "text/plain": [
       "<class 'statsmodels.iolib.summary.Summary'>\n",
       "\"\"\"\n",
       "                            OLS Regression Results                            \n",
       "==============================================================================\n",
       "Dep. Variable:            Browse_time   R-squared:                       0.685\n",
       "Model:                            OLS   Adj. R-squared:                  0.684\n",
       "Method:                 Least Squares   F-statistic:                     495.5\n",
       "Date:                Sun, 16 Jan 2022   Prob (F-statistic):               0.00\n",
       "Time:                        16:39:47   Log-Likelihood:                -3322.4\n",
       "No. Observations:                1600   AIC:                             6661.\n",
       "Df Residuals:                    1592   BIC:                             6704.\n",
       "Df Model:                           7                                         \n",
       "Covariance Type:            nonrobust                                         \n",
       "================================================================================================================================\n",
       "                                                                   coef    std err          t      P>|t|      [0.025      0.975]\n",
       "--------------------------------------------------------------------------------------------------------------------------------\n",
       "Intercept                                                       24.9607      0.137    182.431      0.000      24.692      25.229\n",
       "C(Match_Score)[T.95]                                            -2.5420      0.193    -13.137      0.000      -2.922      -2.162\n",
       "C(Tile_size)[T.0.45]                                             0.0590      0.193      0.305      0.761      -0.321       0.439\n",
       "C(Prev_type)[T.TT]                                              -4.9653      0.193    -25.661      0.000      -5.345      -4.586\n",
       "C(Match_Score)[T.95]:C(Tile_size)[T.0.45]                       -0.0976      0.274     -0.357      0.721      -0.634       0.439\n",
       "C(Match_Score)[T.95]:C(Prev_type)[T.TT]                         -0.1601      0.274     -0.585      0.559      -0.697       0.377\n",
       "C(Tile_size)[T.0.45]:C(Prev_type)[T.TT]                         -0.1104      0.274     -0.403      0.687      -0.647       0.426\n",
       "C(Match_Score)[T.95]:C(Tile_size)[T.0.45]:C(Prev_type)[T.TT]     0.1782      0.387      0.461      0.645      -0.581       0.937\n",
       "==============================================================================\n",
       "Omnibus:                       27.628   Durbin-Watson:                   2.737\n",
       "Prob(Omnibus):                  0.000   Jarque-Bera (JB):               15.826\n",
       "Skew:                          -0.010   Prob(JB):                     0.000366\n",
       "Kurtosis:                       2.513   Cond. No.                         17.9\n",
       "==============================================================================\n",
       "\n",
       "Notes:\n",
       "[1] Standard Errors assume that the covariance matrix of the errors is correctly specified.\n",
       "\"\"\""
      ]
     },
     "execution_count": 10,
     "metadata": {},
     "output_type": "execute_result"
    }
   ],
   "source": [
    "model_red1 = smf.ols('Browse_time ~ C(Match_Score) * C(Tile_size) * C(Prev_type)', data = project_df).fit()\n",
    "model_red1.summary()"
   ]
  },
  {
   "cell_type": "code",
   "execution_count": 11,
   "id": "9d5400c4",
   "metadata": {},
   "outputs": [
    {
     "data": {
      "text/html": [
       "<div>\n",
       "<style scoped>\n",
       "    .dataframe tbody tr th:only-of-type {\n",
       "        vertical-align: middle;\n",
       "    }\n",
       "\n",
       "    .dataframe tbody tr th {\n",
       "        vertical-align: top;\n",
       "    }\n",
       "\n",
       "    .dataframe thead th {\n",
       "        text-align: right;\n",
       "    }\n",
       "</style>\n",
       "<table border=\"1\" class=\"dataframe\">\n",
       "  <thead>\n",
       "    <tr style=\"text-align: right;\">\n",
       "      <th></th>\n",
       "      <th>df_resid</th>\n",
       "      <th>ssr</th>\n",
       "      <th>df_diff</th>\n",
       "      <th>ss_diff</th>\n",
       "      <th>F</th>\n",
       "      <th>Pr(&gt;F)</th>\n",
       "    </tr>\n",
       "  </thead>\n",
       "  <tbody>\n",
       "    <tr>\n",
       "      <th>0</th>\n",
       "      <td>1592.0</td>\n",
       "      <td>5960.591351</td>\n",
       "      <td>0.0</td>\n",
       "      <td>NaN</td>\n",
       "      <td>NaN</td>\n",
       "      <td>NaN</td>\n",
       "    </tr>\n",
       "    <tr>\n",
       "      <th>1</th>\n",
       "      <td>1584.0</td>\n",
       "      <td>1644.544595</td>\n",
       "      <td>8.0</td>\n",
       "      <td>4316.046756</td>\n",
       "      <td>519.643712</td>\n",
       "      <td>0.0</td>\n",
       "    </tr>\n",
       "  </tbody>\n",
       "</table>\n",
       "</div>"
      ],
      "text/plain": [
       "   df_resid          ssr  df_diff      ss_diff           F  Pr(>F)\n",
       "0    1592.0  5960.591351      0.0          NaN         NaN     NaN\n",
       "1    1584.0  1644.544595      8.0  4316.046756  519.643712     0.0"
      ]
     },
     "execution_count": 11,
     "metadata": {},
     "output_type": "execute_result"
    }
   ],
   "source": [
    "sm.stats.anova_lm(model_red1, model)"
   ]
  },
  {
   "cell_type": "markdown",
   "id": "d660cd07",
   "metadata": {},
   "source": [
    "### Testing for match score"
   ]
  },
  {
   "cell_type": "code",
   "execution_count": 12,
   "id": "9c1c47c1",
   "metadata": {},
   "outputs": [
    {
     "data": {
      "text/html": [
       "<table class=\"simpletable\">\n",
       "<caption>OLS Regression Results</caption>\n",
       "<tr>\n",
       "  <th>Dep. Variable:</th>       <td>Browse_time</td>   <th>  R-squared:         </th> <td>   0.655</td>\n",
       "</tr>\n",
       "<tr>\n",
       "  <th>Model:</th>                   <td>OLS</td>       <th>  Adj. R-squared:    </th> <td>   0.653</td>\n",
       "</tr>\n",
       "<tr>\n",
       "  <th>Method:</th>             <td>Least Squares</td>  <th>  F-statistic:       </th> <td>   431.4</td>\n",
       "</tr>\n",
       "<tr>\n",
       "  <th>Date:</th>             <td>Sun, 16 Jan 2022</td> <th>  Prob (F-statistic):</th>  <td>  0.00</td> \n",
       "</tr>\n",
       "<tr>\n",
       "  <th>Time:</th>                 <td>16:39:48</td>     <th>  Log-Likelihood:    </th> <td> -3396.7</td>\n",
       "</tr>\n",
       "<tr>\n",
       "  <th>No. Observations:</th>      <td>  1600</td>      <th>  AIC:               </th> <td>   6809.</td>\n",
       "</tr>\n",
       "<tr>\n",
       "  <th>Df Residuals:</th>          <td>  1592</td>      <th>  BIC:               </th> <td>   6853.</td>\n",
       "</tr>\n",
       "<tr>\n",
       "  <th>Df Model:</th>              <td>     7</td>      <th>                     </th>     <td> </td>   \n",
       "</tr>\n",
       "<tr>\n",
       "  <th>Covariance Type:</th>      <td>nonrobust</td>    <th>                     </th>     <td> </td>   \n",
       "</tr>\n",
       "</table>\n",
       "<table class=\"simpletable\">\n",
       "<tr>\n",
       "                                <td></td>                                   <th>coef</th>     <th>std err</th>      <th>t</th>      <th>P>|t|</th>  <th>[0.025</th>    <th>0.975]</th>  \n",
       "</tr>\n",
       "<tr>\n",
       "  <th>Intercept</th>                                                     <td>   22.5097</td> <td>    0.143</td> <td>  157.052</td> <td> 0.000</td> <td>   22.229</td> <td>   22.791</td>\n",
       "</tr>\n",
       "<tr>\n",
       "  <th>C(Prev_Length)[T.115]</th>                                         <td>    2.3600</td> <td>    0.203</td> <td>   11.643</td> <td> 0.000</td> <td>    1.962</td> <td>    2.758</td>\n",
       "</tr>\n",
       "<tr>\n",
       "  <th>C(Tile_size)[T.0.45]</th>                                          <td>    0.0107</td> <td>    0.203</td> <td>    0.053</td> <td> 0.958</td> <td>   -0.387</td> <td>    0.408</td>\n",
       "</tr>\n",
       "<tr>\n",
       "  <th>C(Prev_type)[T.TT]</th>                                            <td>   -5.0032</td> <td>    0.203</td> <td>  -24.683</td> <td> 0.000</td> <td>   -5.401</td> <td>   -4.606</td>\n",
       "</tr>\n",
       "<tr>\n",
       "  <th>C(Prev_Length)[T.115]:C(Tile_size)[T.0.45]</th>                    <td>   -0.0012</td> <td>    0.287</td> <td>   -0.004</td> <td> 0.997</td> <td>   -0.563</td> <td>    0.561</td>\n",
       "</tr>\n",
       "<tr>\n",
       "  <th>C(Prev_Length)[T.115]:C(Prev_type)[T.TT]</th>                      <td>   -0.0844</td> <td>    0.287</td> <td>   -0.294</td> <td> 0.768</td> <td>   -0.647</td> <td>    0.478</td>\n",
       "</tr>\n",
       "<tr>\n",
       "  <th>C(Tile_size)[T.0.45]:C(Prev_type)[T.TT]</th>                       <td>   -0.0556</td> <td>    0.287</td> <td>   -0.194</td> <td> 0.846</td> <td>   -0.618</td> <td>    0.507</td>\n",
       "</tr>\n",
       "<tr>\n",
       "  <th>C(Prev_Length)[T.115]:C(Tile_size)[T.0.45]:C(Prev_type)[T.TT]</th> <td>    0.0686</td> <td>    0.405</td> <td>    0.169</td> <td> 0.866</td> <td>   -0.727</td> <td>    0.864</td>\n",
       "</tr>\n",
       "</table>\n",
       "<table class=\"simpletable\">\n",
       "<tr>\n",
       "  <th>Omnibus:</th>       <td>47.144</td> <th>  Durbin-Watson:     </th> <td>   2.006</td>\n",
       "</tr>\n",
       "<tr>\n",
       "  <th>Prob(Omnibus):</th> <td> 0.000</td> <th>  Jarque-Bera (JB):  </th> <td>  23.246</td>\n",
       "</tr>\n",
       "<tr>\n",
       "  <th>Skew:</th>          <td>-0.041</td> <th>  Prob(JB):          </th> <td>8.96e-06</td>\n",
       "</tr>\n",
       "<tr>\n",
       "  <th>Kurtosis:</th>      <td> 2.415</td> <th>  Cond. No.          </th> <td>    17.9</td>\n",
       "</tr>\n",
       "</table><br/><br/>Notes:<br/>[1] Standard Errors assume that the covariance matrix of the errors is correctly specified."
      ],
      "text/plain": [
       "<class 'statsmodels.iolib.summary.Summary'>\n",
       "\"\"\"\n",
       "                            OLS Regression Results                            \n",
       "==============================================================================\n",
       "Dep. Variable:            Browse_time   R-squared:                       0.655\n",
       "Model:                            OLS   Adj. R-squared:                  0.653\n",
       "Method:                 Least Squares   F-statistic:                     431.4\n",
       "Date:                Sun, 16 Jan 2022   Prob (F-statistic):               0.00\n",
       "Time:                        16:39:48   Log-Likelihood:                -3396.7\n",
       "No. Observations:                1600   AIC:                             6809.\n",
       "Df Residuals:                    1592   BIC:                             6853.\n",
       "Df Model:                           7                                         \n",
       "Covariance Type:            nonrobust                                         \n",
       "=================================================================================================================================\n",
       "                                                                    coef    std err          t      P>|t|      [0.025      0.975]\n",
       "---------------------------------------------------------------------------------------------------------------------------------\n",
       "Intercept                                                        22.5097      0.143    157.052      0.000      22.229      22.791\n",
       "C(Prev_Length)[T.115]                                             2.3600      0.203     11.643      0.000       1.962       2.758\n",
       "C(Tile_size)[T.0.45]                                              0.0107      0.203      0.053      0.958      -0.387       0.408\n",
       "C(Prev_type)[T.TT]                                               -5.0032      0.203    -24.683      0.000      -5.401      -4.606\n",
       "C(Prev_Length)[T.115]:C(Tile_size)[T.0.45]                       -0.0012      0.287     -0.004      0.997      -0.563       0.561\n",
       "C(Prev_Length)[T.115]:C(Prev_type)[T.TT]                         -0.0844      0.287     -0.294      0.768      -0.647       0.478\n",
       "C(Tile_size)[T.0.45]:C(Prev_type)[T.TT]                          -0.0556      0.287     -0.194      0.846      -0.618       0.507\n",
       "C(Prev_Length)[T.115]:C(Tile_size)[T.0.45]:C(Prev_type)[T.TT]     0.0686      0.405      0.169      0.866      -0.727       0.864\n",
       "==============================================================================\n",
       "Omnibus:                       47.144   Durbin-Watson:                   2.006\n",
       "Prob(Omnibus):                  0.000   Jarque-Bera (JB):               23.246\n",
       "Skew:                          -0.041   Prob(JB):                     8.96e-06\n",
       "Kurtosis:                       2.415   Cond. No.                         17.9\n",
       "==============================================================================\n",
       "\n",
       "Notes:\n",
       "[1] Standard Errors assume that the covariance matrix of the errors is correctly specified.\n",
       "\"\"\""
      ]
     },
     "execution_count": 12,
     "metadata": {},
     "output_type": "execute_result"
    }
   ],
   "source": [
    "model_red2 = smf.ols('Browse_time ~ C(Prev_Length) * C(Tile_size) * C(Prev_type)', data = project_df).fit()\n",
    "model_red2.summary()"
   ]
  },
  {
   "cell_type": "code",
   "execution_count": 13,
   "id": "b8d087cc",
   "metadata": {},
   "outputs": [
    {
     "data": {
      "text/html": [
       "<div>\n",
       "<style scoped>\n",
       "    .dataframe tbody tr th:only-of-type {\n",
       "        vertical-align: middle;\n",
       "    }\n",
       "\n",
       "    .dataframe tbody tr th {\n",
       "        vertical-align: top;\n",
       "    }\n",
       "\n",
       "    .dataframe thead th {\n",
       "        text-align: right;\n",
       "    }\n",
       "</style>\n",
       "<table border=\"1\" class=\"dataframe\">\n",
       "  <thead>\n",
       "    <tr style=\"text-align: right;\">\n",
       "      <th></th>\n",
       "      <th>df_resid</th>\n",
       "      <th>ssr</th>\n",
       "      <th>df_diff</th>\n",
       "      <th>ss_diff</th>\n",
       "      <th>F</th>\n",
       "      <th>Pr(&gt;F)</th>\n",
       "    </tr>\n",
       "  </thead>\n",
       "  <tbody>\n",
       "    <tr>\n",
       "      <th>0</th>\n",
       "      <td>1592.0</td>\n",
       "      <td>6540.750034</td>\n",
       "      <td>0.0</td>\n",
       "      <td>NaN</td>\n",
       "      <td>NaN</td>\n",
       "      <td>NaN</td>\n",
       "    </tr>\n",
       "    <tr>\n",
       "      <th>1</th>\n",
       "      <td>1584.0</td>\n",
       "      <td>1644.544595</td>\n",
       "      <td>8.0</td>\n",
       "      <td>4896.205439</td>\n",
       "      <td>589.493699</td>\n",
       "      <td>0.0</td>\n",
       "    </tr>\n",
       "  </tbody>\n",
       "</table>\n",
       "</div>"
      ],
      "text/plain": [
       "   df_resid          ssr  df_diff      ss_diff           F  Pr(>F)\n",
       "0    1592.0  6540.750034      0.0          NaN         NaN     NaN\n",
       "1    1584.0  1644.544595      8.0  4896.205439  589.493699     0.0"
      ]
     },
     "execution_count": 13,
     "metadata": {},
     "output_type": "execute_result"
    }
   ],
   "source": [
    "sm.stats.anova_lm(model_red2, model)"
   ]
  },
  {
   "cell_type": "markdown",
   "id": "c2e8cc4b",
   "metadata": {},
   "source": [
    "### Testing for tile size"
   ]
  },
  {
   "cell_type": "code",
   "execution_count": 14,
   "id": "7e03988b",
   "metadata": {},
   "outputs": [
    {
     "data": {
      "text/html": [
       "<table class=\"simpletable\">\n",
       "<caption>OLS Regression Results</caption>\n",
       "<tr>\n",
       "  <th>Dep. Variable:</th>       <td>Browse_time</td>   <th>  R-squared:         </th> <td>   0.913</td>\n",
       "</tr>\n",
       "<tr>\n",
       "  <th>Model:</th>                   <td>OLS</td>       <th>  Adj. R-squared:    </th> <td>   0.913</td>\n",
       "</tr>\n",
       "<tr>\n",
       "  <th>Method:</th>             <td>Least Squares</td>  <th>  F-statistic:       </th> <td>   2391.</td>\n",
       "</tr>\n",
       "<tr>\n",
       "  <th>Date:</th>             <td>Sun, 16 Jan 2022</td> <th>  Prob (F-statistic):</th>  <td>  0.00</td> \n",
       "</tr>\n",
       "<tr>\n",
       "  <th>Time:</th>                 <td>16:39:48</td>     <th>  Log-Likelihood:    </th> <td> -2292.9</td>\n",
       "</tr>\n",
       "<tr>\n",
       "  <th>No. Observations:</th>      <td>  1600</td>      <th>  AIC:               </th> <td>   4602.</td>\n",
       "</tr>\n",
       "<tr>\n",
       "  <th>Df Residuals:</th>          <td>  1592</td>      <th>  BIC:               </th> <td>   4645.</td>\n",
       "</tr>\n",
       "<tr>\n",
       "  <th>Df Model:</th>              <td>     7</td>      <th>                     </th>     <td> </td>   \n",
       "</tr>\n",
       "<tr>\n",
       "  <th>Covariance Type:</th>      <td>nonrobust</td>    <th>                     </th>     <td> </td>   \n",
       "</tr>\n",
       "</table>\n",
       "<table class=\"simpletable\">\n",
       "<tr>\n",
       "                                <td></td>                                   <th>coef</th>     <th>std err</th>      <th>t</th>      <th>P>|t|</th>  <th>[0.025</th>    <th>0.975]</th>  \n",
       "</tr>\n",
       "<tr>\n",
       "  <th>Intercept</th>                                                     <td>   25.0169</td> <td>    0.072</td> <td>  347.953</td> <td> 0.000</td> <td>   24.876</td> <td>   25.158</td>\n",
       "</tr>\n",
       "<tr>\n",
       "  <th>C(Match_Score)[T.95]</th>                                          <td>   -5.0037</td> <td>    0.102</td> <td>  -49.211</td> <td> 0.000</td> <td>   -5.203</td> <td>   -4.804</td>\n",
       "</tr>\n",
       "<tr>\n",
       "  <th>C(Prev_Length)[T.115]</th>                                         <td>   -0.0535</td> <td>    0.102</td> <td>   -0.526</td> <td> 0.599</td> <td>   -0.253</td> <td>    0.146</td>\n",
       "</tr>\n",
       "<tr>\n",
       "  <th>C(Prev_type)[T.TT]</th>                                            <td>   -5.1001</td> <td>    0.102</td> <td>  -50.159</td> <td> 0.000</td> <td>   -5.299</td> <td>   -4.901</td>\n",
       "</tr>\n",
       "<tr>\n",
       "  <th>C(Match_Score)[T.95]:C(Prev_Length)[T.115]</th>                    <td>    4.8258</td> <td>    0.144</td> <td>   33.560</td> <td> 0.000</td> <td>    4.544</td> <td>    5.108</td>\n",
       "</tr>\n",
       "<tr>\n",
       "  <th>C(Match_Score)[T.95]:C(Prev_type)[T.TT]</th>                       <td>    0.1382</td> <td>    0.144</td> <td>    0.961</td> <td> 0.337</td> <td>   -0.144</td> <td>    0.420</td>\n",
       "</tr>\n",
       "<tr>\n",
       "  <th>C(Prev_Length)[T.115]:C(Prev_type)[T.TT]</th>                      <td>    0.1590</td> <td>    0.144</td> <td>    1.106</td> <td> 0.269</td> <td>   -0.123</td> <td>    0.441</td>\n",
       "</tr>\n",
       "<tr>\n",
       "  <th>C(Match_Score)[T.95]:C(Prev_Length)[T.115]:C(Prev_type)[T.TT]</th> <td>   -0.4183</td> <td>    0.203</td> <td>   -2.057</td> <td> 0.040</td> <td>   -0.817</td> <td>   -0.019</td>\n",
       "</tr>\n",
       "</table>\n",
       "<table class=\"simpletable\">\n",
       "<tr>\n",
       "  <th>Omnibus:</th>       <td> 0.386</td> <th>  Durbin-Watson:     </th> <td>   2.025</td>\n",
       "</tr>\n",
       "<tr>\n",
       "  <th>Prob(Omnibus):</th> <td> 0.825</td> <th>  Jarque-Bera (JB):  </th> <td>   0.460</td>\n",
       "</tr>\n",
       "<tr>\n",
       "  <th>Skew:</th>          <td>-0.011</td> <th>  Prob(JB):          </th> <td>   0.795</td>\n",
       "</tr>\n",
       "<tr>\n",
       "  <th>Kurtosis:</th>      <td> 2.920</td> <th>  Cond. No.          </th> <td>    17.9</td>\n",
       "</tr>\n",
       "</table><br/><br/>Notes:<br/>[1] Standard Errors assume that the covariance matrix of the errors is correctly specified."
      ],
      "text/plain": [
       "<class 'statsmodels.iolib.summary.Summary'>\n",
       "\"\"\"\n",
       "                            OLS Regression Results                            \n",
       "==============================================================================\n",
       "Dep. Variable:            Browse_time   R-squared:                       0.913\n",
       "Model:                            OLS   Adj. R-squared:                  0.913\n",
       "Method:                 Least Squares   F-statistic:                     2391.\n",
       "Date:                Sun, 16 Jan 2022   Prob (F-statistic):               0.00\n",
       "Time:                        16:39:48   Log-Likelihood:                -2292.9\n",
       "No. Observations:                1600   AIC:                             4602.\n",
       "Df Residuals:                    1592   BIC:                             4645.\n",
       "Df Model:                           7                                         \n",
       "Covariance Type:            nonrobust                                         \n",
       "=================================================================================================================================\n",
       "                                                                    coef    std err          t      P>|t|      [0.025      0.975]\n",
       "---------------------------------------------------------------------------------------------------------------------------------\n",
       "Intercept                                                        25.0169      0.072    347.953      0.000      24.876      25.158\n",
       "C(Match_Score)[T.95]                                             -5.0037      0.102    -49.211      0.000      -5.203      -4.804\n",
       "C(Prev_Length)[T.115]                                            -0.0535      0.102     -0.526      0.599      -0.253       0.146\n",
       "C(Prev_type)[T.TT]                                               -5.1001      0.102    -50.159      0.000      -5.299      -4.901\n",
       "C(Match_Score)[T.95]:C(Prev_Length)[T.115]                        4.8258      0.144     33.560      0.000       4.544       5.108\n",
       "C(Match_Score)[T.95]:C(Prev_type)[T.TT]                           0.1382      0.144      0.961      0.337      -0.144       0.420\n",
       "C(Prev_Length)[T.115]:C(Prev_type)[T.TT]                          0.1590      0.144      1.106      0.269      -0.123       0.441\n",
       "C(Match_Score)[T.95]:C(Prev_Length)[T.115]:C(Prev_type)[T.TT]    -0.4183      0.203     -2.057      0.040      -0.817      -0.019\n",
       "==============================================================================\n",
       "Omnibus:                        0.386   Durbin-Watson:                   2.025\n",
       "Prob(Omnibus):                  0.825   Jarque-Bera (JB):                0.460\n",
       "Skew:                          -0.011   Prob(JB):                        0.795\n",
       "Kurtosis:                       2.920   Cond. No.                         17.9\n",
       "==============================================================================\n",
       "\n",
       "Notes:\n",
       "[1] Standard Errors assume that the covariance matrix of the errors is correctly specified.\n",
       "\"\"\""
      ]
     },
     "execution_count": 14,
     "metadata": {},
     "output_type": "execute_result"
    }
   ],
   "source": [
    "model_red3 = smf.ols('Browse_time ~ C(Match_Score) * C(Prev_Length) * C(Prev_type)', data = project_df).fit()\n",
    "model_red3.summary()"
   ]
  },
  {
   "cell_type": "code",
   "execution_count": 15,
   "id": "f216602c",
   "metadata": {
    "scrolled": true
   },
   "outputs": [
    {
     "data": {
      "text/html": [
       "<div>\n",
       "<style scoped>\n",
       "    .dataframe tbody tr th:only-of-type {\n",
       "        vertical-align: middle;\n",
       "    }\n",
       "\n",
       "    .dataframe tbody tr th {\n",
       "        vertical-align: top;\n",
       "    }\n",
       "\n",
       "    .dataframe thead th {\n",
       "        text-align: right;\n",
       "    }\n",
       "</style>\n",
       "<table border=\"1\" class=\"dataframe\">\n",
       "  <thead>\n",
       "    <tr style=\"text-align: right;\">\n",
       "      <th></th>\n",
       "      <th>df_resid</th>\n",
       "      <th>ssr</th>\n",
       "      <th>df_diff</th>\n",
       "      <th>ss_diff</th>\n",
       "      <th>F</th>\n",
       "      <th>Pr(&gt;F)</th>\n",
       "    </tr>\n",
       "  </thead>\n",
       "  <tbody>\n",
       "    <tr>\n",
       "      <th>0</th>\n",
       "      <td>1592.0</td>\n",
       "      <td>1645.883948</td>\n",
       "      <td>0.0</td>\n",
       "      <td>NaN</td>\n",
       "      <td>NaN</td>\n",
       "      <td>NaN</td>\n",
       "    </tr>\n",
       "    <tr>\n",
       "      <th>1</th>\n",
       "      <td>1584.0</td>\n",
       "      <td>1644.544595</td>\n",
       "      <td>8.0</td>\n",
       "      <td>1.339354</td>\n",
       "      <td>0.161256</td>\n",
       "      <td>0.995648</td>\n",
       "    </tr>\n",
       "  </tbody>\n",
       "</table>\n",
       "</div>"
      ],
      "text/plain": [
       "   df_resid          ssr  df_diff   ss_diff         F    Pr(>F)\n",
       "0    1592.0  1645.883948      0.0       NaN       NaN       NaN\n",
       "1    1584.0  1644.544595      8.0  1.339354  0.161256  0.995648"
      ]
     },
     "execution_count": 15,
     "metadata": {},
     "output_type": "execute_result"
    }
   ],
   "source": [
    "sm.stats.anova_lm(model_red3, model)"
   ]
  },
  {
   "cell_type": "markdown",
   "id": "639bb69a",
   "metadata": {},
   "source": [
    "#### Tile size is not signficant "
   ]
  },
  {
   "cell_type": "markdown",
   "id": "f40222c9",
   "metadata": {},
   "source": [
    "### Testing for prev.type"
   ]
  },
  {
   "cell_type": "code",
   "execution_count": 16,
   "id": "e3b5b552",
   "metadata": {},
   "outputs": [
    {
     "data": {
      "text/html": [
       "<table class=\"simpletable\">\n",
       "<caption>OLS Regression Results</caption>\n",
       "<tr>\n",
       "  <th>Dep. Variable:</th>       <td>Browse_time</td>   <th>  R-squared:         </th> <td>   0.373</td> \n",
       "</tr>\n",
       "<tr>\n",
       "  <th>Model:</th>                   <td>OLS</td>       <th>  Adj. R-squared:    </th> <td>   0.370</td> \n",
       "</tr>\n",
       "<tr>\n",
       "  <th>Method:</th>             <td>Least Squares</td>  <th>  F-statistic:       </th> <td>   135.4</td> \n",
       "</tr>\n",
       "<tr>\n",
       "  <th>Date:</th>             <td>Sun, 16 Jan 2022</td> <th>  Prob (F-statistic):</th> <td>1.58e-156</td>\n",
       "</tr>\n",
       "<tr>\n",
       "  <th>Time:</th>                 <td>16:39:49</td>     <th>  Log-Likelihood:    </th> <td> -3873.9</td> \n",
       "</tr>\n",
       "<tr>\n",
       "  <th>No. Observations:</th>      <td>  1600</td>      <th>  AIC:               </th> <td>   7764.</td> \n",
       "</tr>\n",
       "<tr>\n",
       "  <th>Df Residuals:</th>          <td>  1592</td>      <th>  BIC:               </th> <td>   7807.</td> \n",
       "</tr>\n",
       "<tr>\n",
       "  <th>Df Model:</th>              <td>     7</td>      <th>                     </th>     <td> </td>    \n",
       "</tr>\n",
       "<tr>\n",
       "  <th>Covariance Type:</th>      <td>nonrobust</td>    <th>                     </th>     <td> </td>    \n",
       "</tr>\n",
       "</table>\n",
       "<table class=\"simpletable\">\n",
       "<tr>\n",
       "                                 <td></td>                                    <th>coef</th>     <th>std err</th>      <th>t</th>      <th>P>|t|</th>  <th>[0.025</th>    <th>0.975]</th>  \n",
       "</tr>\n",
       "<tr>\n",
       "  <th>Intercept</th>                                                       <td>   22.4653</td> <td>    0.193</td> <td>  116.322</td> <td> 0.000</td> <td>   22.086</td> <td>   22.844</td>\n",
       "</tr>\n",
       "<tr>\n",
       "  <th>C(Match_Score)[T.95]</th>                                            <td>   -4.9144</td> <td>    0.273</td> <td>  -17.993</td> <td> 0.000</td> <td>   -5.450</td> <td>   -4.379</td>\n",
       "</tr>\n",
       "<tr>\n",
       "  <th>C(Prev_Length)[T.115]</th>                                           <td>    0.0254</td> <td>    0.273</td> <td>    0.093</td> <td> 0.926</td> <td>   -0.510</td> <td>    0.561</td>\n",
       "</tr>\n",
       "<tr>\n",
       "  <th>C(Tile_size)[T.0.45]</th>                                            <td>    0.0032</td> <td>    0.273</td> <td>    0.012</td> <td> 0.991</td> <td>   -0.533</td> <td>    0.539</td>\n",
       "</tr>\n",
       "<tr>\n",
       "  <th>C(Match_Score)[T.95]:C(Prev_Length)[T.115]</th>                      <td>    4.5846</td> <td>    0.386</td> <td>   11.869</td> <td> 0.000</td> <td>    3.827</td> <td>    5.342</td>\n",
       "</tr>\n",
       "<tr>\n",
       "  <th>C(Match_Score)[T.95]:C(Tile_size)[T.0.45]</th>                       <td>   -0.0405</td> <td>    0.386</td> <td>   -0.105</td> <td> 0.917</td> <td>   -0.798</td> <td>    0.717</td>\n",
       "</tr>\n",
       "<tr>\n",
       "  <th>C(Prev_Length)[T.115]:C(Tile_size)[T.0.45]</th>                      <td>    0.0012</td> <td>    0.386</td> <td>    0.003</td> <td> 0.998</td> <td>   -0.756</td> <td>    0.759</td>\n",
       "</tr>\n",
       "<tr>\n",
       "  <th>C(Match_Score)[T.95]:C(Prev_Length)[T.115]:C(Tile_size)[T.0.45]</th> <td>    0.0639</td> <td>    0.546</td> <td>    0.117</td> <td> 0.907</td> <td>   -1.008</td> <td>    1.135</td>\n",
       "</tr>\n",
       "</table>\n",
       "<table class=\"simpletable\">\n",
       "<tr>\n",
       "  <th>Omnibus:</th>       <td>11036.250</td> <th>  Durbin-Watson:     </th> <td>   0.716</td>\n",
       "</tr>\n",
       "<tr>\n",
       "  <th>Prob(Omnibus):</th>  <td> 0.000</td>   <th>  Jarque-Bera (JB):  </th> <td> 148.245</td>\n",
       "</tr>\n",
       "<tr>\n",
       "  <th>Skew:</th>           <td>-0.007</td>   <th>  Prob(JB):          </th> <td>6.44e-33</td>\n",
       "</tr>\n",
       "<tr>\n",
       "  <th>Kurtosis:</th>       <td> 1.509</td>   <th>  Cond. No.          </th> <td>    17.9</td>\n",
       "</tr>\n",
       "</table><br/><br/>Notes:<br/>[1] Standard Errors assume that the covariance matrix of the errors is correctly specified."
      ],
      "text/plain": [
       "<class 'statsmodels.iolib.summary.Summary'>\n",
       "\"\"\"\n",
       "                            OLS Regression Results                            \n",
       "==============================================================================\n",
       "Dep. Variable:            Browse_time   R-squared:                       0.373\n",
       "Model:                            OLS   Adj. R-squared:                  0.370\n",
       "Method:                 Least Squares   F-statistic:                     135.4\n",
       "Date:                Sun, 16 Jan 2022   Prob (F-statistic):          1.58e-156\n",
       "Time:                        16:39:49   Log-Likelihood:                -3873.9\n",
       "No. Observations:                1600   AIC:                             7764.\n",
       "Df Residuals:                    1592   BIC:                             7807.\n",
       "Df Model:                           7                                         \n",
       "Covariance Type:            nonrobust                                         \n",
       "===================================================================================================================================\n",
       "                                                                      coef    std err          t      P>|t|      [0.025      0.975]\n",
       "-----------------------------------------------------------------------------------------------------------------------------------\n",
       "Intercept                                                          22.4653      0.193    116.322      0.000      22.086      22.844\n",
       "C(Match_Score)[T.95]                                               -4.9144      0.273    -17.993      0.000      -5.450      -4.379\n",
       "C(Prev_Length)[T.115]                                               0.0254      0.273      0.093      0.926      -0.510       0.561\n",
       "C(Tile_size)[T.0.45]                                                0.0032      0.273      0.012      0.991      -0.533       0.539\n",
       "C(Match_Score)[T.95]:C(Prev_Length)[T.115]                          4.5846      0.386     11.869      0.000       3.827       5.342\n",
       "C(Match_Score)[T.95]:C(Tile_size)[T.0.45]                          -0.0405      0.386     -0.105      0.917      -0.798       0.717\n",
       "C(Prev_Length)[T.115]:C(Tile_size)[T.0.45]                          0.0012      0.386      0.003      0.998      -0.756       0.759\n",
       "C(Match_Score)[T.95]:C(Prev_Length)[T.115]:C(Tile_size)[T.0.45]     0.0639      0.546      0.117      0.907      -1.008       1.135\n",
       "==============================================================================\n",
       "Omnibus:                    11036.250   Durbin-Watson:                   0.716\n",
       "Prob(Omnibus):                  0.000   Jarque-Bera (JB):              148.245\n",
       "Skew:                          -0.007   Prob(JB):                     6.44e-33\n",
       "Kurtosis:                       1.509   Cond. No.                         17.9\n",
       "==============================================================================\n",
       "\n",
       "Notes:\n",
       "[1] Standard Errors assume that the covariance matrix of the errors is correctly specified.\n",
       "\"\"\""
      ]
     },
     "execution_count": 16,
     "metadata": {},
     "output_type": "execute_result"
    }
   ],
   "source": [
    "model_red4 = smf.ols('Browse_time ~ C(Match_Score) * C(Prev_Length) * C(Tile_size)', data = project_df).fit()\n",
    "model_red4.summary()"
   ]
  },
  {
   "cell_type": "code",
   "execution_count": 17,
   "id": "9ffc385c",
   "metadata": {},
   "outputs": [
    {
     "data": {
      "text/html": [
       "<div>\n",
       "<style scoped>\n",
       "    .dataframe tbody tr th:only-of-type {\n",
       "        vertical-align: middle;\n",
       "    }\n",
       "\n",
       "    .dataframe tbody tr th {\n",
       "        vertical-align: top;\n",
       "    }\n",
       "\n",
       "    .dataframe thead th {\n",
       "        text-align: right;\n",
       "    }\n",
       "</style>\n",
       "<table border=\"1\" class=\"dataframe\">\n",
       "  <thead>\n",
       "    <tr style=\"text-align: right;\">\n",
       "      <th></th>\n",
       "      <th>df_resid</th>\n",
       "      <th>ssr</th>\n",
       "      <th>df_diff</th>\n",
       "      <th>ss_diff</th>\n",
       "      <th>F</th>\n",
       "      <th>Pr(&gt;F)</th>\n",
       "    </tr>\n",
       "  </thead>\n",
       "  <tbody>\n",
       "    <tr>\n",
       "      <th>0</th>\n",
       "      <td>1592.0</td>\n",
       "      <td>11876.138329</td>\n",
       "      <td>0.0</td>\n",
       "      <td>NaN</td>\n",
       "      <td>NaN</td>\n",
       "      <td>NaN</td>\n",
       "    </tr>\n",
       "    <tr>\n",
       "      <th>1</th>\n",
       "      <td>1584.0</td>\n",
       "      <td>1644.544595</td>\n",
       "      <td>8.0</td>\n",
       "      <td>10231.593734</td>\n",
       "      <td>1231.864168</td>\n",
       "      <td>0.0</td>\n",
       "    </tr>\n",
       "  </tbody>\n",
       "</table>\n",
       "</div>"
      ],
      "text/plain": [
       "   df_resid           ssr  df_diff       ss_diff            F  Pr(>F)\n",
       "0    1592.0  11876.138329      0.0           NaN          NaN     NaN\n",
       "1    1584.0   1644.544595      8.0  10231.593734  1231.864168     0.0"
      ]
     },
     "execution_count": 17,
     "metadata": {},
     "output_type": "execute_result"
    }
   ],
   "source": [
    "sm.stats.anova_lm(model_red4, model)"
   ]
  },
  {
   "cell_type": "code",
   "execution_count": null,
   "id": "2dff4912",
   "metadata": {},
   "outputs": [],
   "source": []
  },
  {
   "cell_type": "markdown",
   "id": "215e9672",
   "metadata": {},
   "source": [
    "### Tile size is insignificant and there is no point in varying the factors"
   ]
  },
  {
   "cell_type": "markdown",
   "id": "1daad6b1",
   "metadata": {},
   "source": [
    "### Plots"
   ]
  },
  {
   "cell_type": "code",
   "execution_count": 18,
   "id": "541f0710",
   "metadata": {},
   "outputs": [],
   "source": [
    "#### plot of the variables vs the metric of interest"
   ]
  },
  {
   "cell_type": "code",
   "execution_count": 19,
   "id": "883523e5",
   "metadata": {
    "scrolled": true
   },
   "outputs": [
    {
     "data": {
      "text/html": [
       "<table class=\"simpletable\">\n",
       "<caption>OLS Regression Results</caption>\n",
       "<tr>\n",
       "  <th>Dep. Variable:</th>       <td>Browse_time</td>   <th>  R-squared:         </th> <td>   0.913</td>\n",
       "</tr>\n",
       "<tr>\n",
       "  <th>Model:</th>                   <td>OLS</td>       <th>  Adj. R-squared:    </th> <td>   0.913</td>\n",
       "</tr>\n",
       "<tr>\n",
       "  <th>Method:</th>             <td>Least Squares</td>  <th>  F-statistic:       </th> <td>   2391.</td>\n",
       "</tr>\n",
       "<tr>\n",
       "  <th>Date:</th>             <td>Sun, 16 Jan 2022</td> <th>  Prob (F-statistic):</th>  <td>  0.00</td> \n",
       "</tr>\n",
       "<tr>\n",
       "  <th>Time:</th>                 <td>16:39:50</td>     <th>  Log-Likelihood:    </th> <td> -2292.9</td>\n",
       "</tr>\n",
       "<tr>\n",
       "  <th>No. Observations:</th>      <td>  1600</td>      <th>  AIC:               </th> <td>   4602.</td>\n",
       "</tr>\n",
       "<tr>\n",
       "  <th>Df Residuals:</th>          <td>  1592</td>      <th>  BIC:               </th> <td>   4645.</td>\n",
       "</tr>\n",
       "<tr>\n",
       "  <th>Df Model:</th>              <td>     7</td>      <th>                     </th>     <td> </td>   \n",
       "</tr>\n",
       "<tr>\n",
       "  <th>Covariance Type:</th>      <td>nonrobust</td>    <th>                     </th>     <td> </td>   \n",
       "</tr>\n",
       "</table>\n",
       "<table class=\"simpletable\">\n",
       "<tr>\n",
       "                                <td></td>                                   <th>coef</th>     <th>std err</th>      <th>t</th>      <th>P>|t|</th>  <th>[0.025</th>    <th>0.975]</th>  \n",
       "</tr>\n",
       "<tr>\n",
       "  <th>Intercept</th>                                                     <td>   25.0169</td> <td>    0.072</td> <td>  347.953</td> <td> 0.000</td> <td>   24.876</td> <td>   25.158</td>\n",
       "</tr>\n",
       "<tr>\n",
       "  <th>C(Match_Score)[T.95]</th>                                          <td>   -5.0037</td> <td>    0.102</td> <td>  -49.211</td> <td> 0.000</td> <td>   -5.203</td> <td>   -4.804</td>\n",
       "</tr>\n",
       "<tr>\n",
       "  <th>C(Prev_Length)[T.115]</th>                                         <td>   -0.0535</td> <td>    0.102</td> <td>   -0.526</td> <td> 0.599</td> <td>   -0.253</td> <td>    0.146</td>\n",
       "</tr>\n",
       "<tr>\n",
       "  <th>C(Prev_type)[T.TT]</th>                                            <td>   -5.1001</td> <td>    0.102</td> <td>  -50.159</td> <td> 0.000</td> <td>   -5.299</td> <td>   -4.901</td>\n",
       "</tr>\n",
       "<tr>\n",
       "  <th>C(Match_Score)[T.95]:C(Prev_Length)[T.115]</th>                    <td>    4.8258</td> <td>    0.144</td> <td>   33.560</td> <td> 0.000</td> <td>    4.544</td> <td>    5.108</td>\n",
       "</tr>\n",
       "<tr>\n",
       "  <th>C(Match_Score)[T.95]:C(Prev_type)[T.TT]</th>                       <td>    0.1382</td> <td>    0.144</td> <td>    0.961</td> <td> 0.337</td> <td>   -0.144</td> <td>    0.420</td>\n",
       "</tr>\n",
       "<tr>\n",
       "  <th>C(Prev_Length)[T.115]:C(Prev_type)[T.TT]</th>                      <td>    0.1590</td> <td>    0.144</td> <td>    1.106</td> <td> 0.269</td> <td>   -0.123</td> <td>    0.441</td>\n",
       "</tr>\n",
       "<tr>\n",
       "  <th>C(Match_Score)[T.95]:C(Prev_Length)[T.115]:C(Prev_type)[T.TT]</th> <td>   -0.4183</td> <td>    0.203</td> <td>   -2.057</td> <td> 0.040</td> <td>   -0.817</td> <td>   -0.019</td>\n",
       "</tr>\n",
       "</table>\n",
       "<table class=\"simpletable\">\n",
       "<tr>\n",
       "  <th>Omnibus:</th>       <td> 0.386</td> <th>  Durbin-Watson:     </th> <td>   2.025</td>\n",
       "</tr>\n",
       "<tr>\n",
       "  <th>Prob(Omnibus):</th> <td> 0.825</td> <th>  Jarque-Bera (JB):  </th> <td>   0.460</td>\n",
       "</tr>\n",
       "<tr>\n",
       "  <th>Skew:</th>          <td>-0.011</td> <th>  Prob(JB):          </th> <td>   0.795</td>\n",
       "</tr>\n",
       "<tr>\n",
       "  <th>Kurtosis:</th>      <td> 2.920</td> <th>  Cond. No.          </th> <td>    17.9</td>\n",
       "</tr>\n",
       "</table><br/><br/>Notes:<br/>[1] Standard Errors assume that the covariance matrix of the errors is correctly specified."
      ],
      "text/plain": [
       "<class 'statsmodels.iolib.summary.Summary'>\n",
       "\"\"\"\n",
       "                            OLS Regression Results                            \n",
       "==============================================================================\n",
       "Dep. Variable:            Browse_time   R-squared:                       0.913\n",
       "Model:                            OLS   Adj. R-squared:                  0.913\n",
       "Method:                 Least Squares   F-statistic:                     2391.\n",
       "Date:                Sun, 16 Jan 2022   Prob (F-statistic):               0.00\n",
       "Time:                        16:39:50   Log-Likelihood:                -2292.9\n",
       "No. Observations:                1600   AIC:                             4602.\n",
       "Df Residuals:                    1592   BIC:                             4645.\n",
       "Df Model:                           7                                         \n",
       "Covariance Type:            nonrobust                                         \n",
       "=================================================================================================================================\n",
       "                                                                    coef    std err          t      P>|t|      [0.025      0.975]\n",
       "---------------------------------------------------------------------------------------------------------------------------------\n",
       "Intercept                                                        25.0169      0.072    347.953      0.000      24.876      25.158\n",
       "C(Match_Score)[T.95]                                             -5.0037      0.102    -49.211      0.000      -5.203      -4.804\n",
       "C(Prev_Length)[T.115]                                            -0.0535      0.102     -0.526      0.599      -0.253       0.146\n",
       "C(Prev_type)[T.TT]                                               -5.1001      0.102    -50.159      0.000      -5.299      -4.901\n",
       "C(Match_Score)[T.95]:C(Prev_Length)[T.115]                        4.8258      0.144     33.560      0.000       4.544       5.108\n",
       "C(Match_Score)[T.95]:C(Prev_type)[T.TT]                           0.1382      0.144      0.961      0.337      -0.144       0.420\n",
       "C(Prev_Length)[T.115]:C(Prev_type)[T.TT]                          0.1590      0.144      1.106      0.269      -0.123       0.441\n",
       "C(Match_Score)[T.95]:C(Prev_Length)[T.115]:C(Prev_type)[T.TT]    -0.4183      0.203     -2.057      0.040      -0.817      -0.019\n",
       "==============================================================================\n",
       "Omnibus:                        0.386   Durbin-Watson:                   2.025\n",
       "Prob(Omnibus):                  0.825   Jarque-Bera (JB):                0.460\n",
       "Skew:                          -0.011   Prob(JB):                        0.795\n",
       "Kurtosis:                       2.920   Cond. No.                         17.9\n",
       "==============================================================================\n",
       "\n",
       "Notes:\n",
       "[1] Standard Errors assume that the covariance matrix of the errors is correctly specified.\n",
       "\"\"\""
      ]
     },
     "execution_count": 19,
     "metadata": {},
     "output_type": "execute_result"
    }
   ],
   "source": [
    "model_red3.summary()"
   ]
  },
  {
   "cell_type": "code",
   "execution_count": 65,
   "id": "24417245",
   "metadata": {
    "scrolled": true
   },
   "outputs": [],
   "source": [
    "\n",
    "\n",
    "df = project_df.groupby(by = ['Match_Score','Prev_Length','Prev_type']).mean().reset_index()"
   ]
  },
  {
   "cell_type": "code",
   "execution_count": 66,
   "id": "251fd8bc",
   "metadata": {},
   "outputs": [
    {
     "data": {
      "text/html": [
       "<div>\n",
       "<style scoped>\n",
       "    .dataframe tbody tr th:only-of-type {\n",
       "        vertical-align: middle;\n",
       "    }\n",
       "\n",
       "    .dataframe tbody tr th {\n",
       "        vertical-align: top;\n",
       "    }\n",
       "\n",
       "    .dataframe thead th {\n",
       "        text-align: right;\n",
       "    }\n",
       "</style>\n",
       "<table border=\"1\" class=\"dataframe\">\n",
       "  <thead>\n",
       "    <tr style=\"text-align: right;\">\n",
       "      <th></th>\n",
       "      <th>Match_Score</th>\n",
       "      <th>Prev_Length</th>\n",
       "      <th>Prev_type</th>\n",
       "      <th>Browse_time</th>\n",
       "    </tr>\n",
       "  </thead>\n",
       "  <tbody>\n",
       "    <tr>\n",
       "      <th>0</th>\n",
       "      <td>5</td>\n",
       "      <td>35</td>\n",
       "      <td>AC</td>\n",
       "      <td>25.016915</td>\n",
       "    </tr>\n",
       "    <tr>\n",
       "      <th>2</th>\n",
       "      <td>5</td>\n",
       "      <td>115</td>\n",
       "      <td>AC</td>\n",
       "      <td>24.963423</td>\n",
       "    </tr>\n",
       "    <tr>\n",
       "      <th>4</th>\n",
       "      <td>95</td>\n",
       "      <td>35</td>\n",
       "      <td>AC</td>\n",
       "      <td>20.013236</td>\n",
       "    </tr>\n",
       "    <tr>\n",
       "      <th>6</th>\n",
       "      <td>95</td>\n",
       "      <td>115</td>\n",
       "      <td>AC</td>\n",
       "      <td>24.785498</td>\n",
       "    </tr>\n",
       "  </tbody>\n",
       "</table>\n",
       "</div>"
      ],
      "text/plain": [
       "   Match_Score  Prev_Length Prev_type  Browse_time\n",
       "0            5           35        AC    25.016915\n",
       "2            5          115        AC    24.963423\n",
       "4           95           35        AC    20.013236\n",
       "6           95          115        AC    24.785498"
      ]
     },
     "execution_count": 66,
     "metadata": {},
     "output_type": "execute_result"
    }
   ],
   "source": [
    "df[(df['Prev_type'] == 'AC')][['Match_Score','Prev_Length','Prev_type' ,'Browse_time']]"
   ]
  },
  {
   "cell_type": "code",
   "execution_count": 67,
   "id": "0b70735e",
   "metadata": {
    "scrolled": true
   },
   "outputs": [
    {
     "data": {
      "text/html": [
       "<div>\n",
       "<style scoped>\n",
       "    .dataframe tbody tr th:only-of-type {\n",
       "        vertical-align: middle;\n",
       "    }\n",
       "\n",
       "    .dataframe tbody tr th {\n",
       "        vertical-align: top;\n",
       "    }\n",
       "\n",
       "    .dataframe thead th {\n",
       "        text-align: right;\n",
       "    }\n",
       "</style>\n",
       "<table border=\"1\" class=\"dataframe\">\n",
       "  <thead>\n",
       "    <tr style=\"text-align: right;\">\n",
       "      <th></th>\n",
       "      <th>Match_Score</th>\n",
       "      <th>Prev_Length</th>\n",
       "      <th>Prev_type</th>\n",
       "      <th>Browse_time</th>\n",
       "    </tr>\n",
       "  </thead>\n",
       "  <tbody>\n",
       "    <tr>\n",
       "      <th>1</th>\n",
       "      <td>5</td>\n",
       "      <td>35</td>\n",
       "      <td>TT</td>\n",
       "      <td>19.916864</td>\n",
       "    </tr>\n",
       "    <tr>\n",
       "      <th>3</th>\n",
       "      <td>5</td>\n",
       "      <td>115</td>\n",
       "      <td>TT</td>\n",
       "      <td>20.022408</td>\n",
       "    </tr>\n",
       "    <tr>\n",
       "      <th>5</th>\n",
       "      <td>95</td>\n",
       "      <td>35</td>\n",
       "      <td>TT</td>\n",
       "      <td>15.051362</td>\n",
       "    </tr>\n",
       "    <tr>\n",
       "      <th>7</th>\n",
       "      <td>95</td>\n",
       "      <td>115</td>\n",
       "      <td>TT</td>\n",
       "      <td>19.564350</td>\n",
       "    </tr>\n",
       "  </tbody>\n",
       "</table>\n",
       "</div>"
      ],
      "text/plain": [
       "   Match_Score  Prev_Length Prev_type  Browse_time\n",
       "1            5           35        TT    19.916864\n",
       "3            5          115        TT    20.022408\n",
       "5           95           35        TT    15.051362\n",
       "7           95          115        TT    19.564350"
      ]
     },
     "execution_count": 67,
     "metadata": {},
     "output_type": "execute_result"
    }
   ],
   "source": [
    "df[(df['Prev_type'] == 'TT')][['Match_Score','Prev_Length','Prev_type' ,'Browse_time']]"
   ]
  },
  {
   "cell_type": "code",
   "execution_count": null,
   "id": "2091496e",
   "metadata": {},
   "outputs": [],
   "source": []
  },
  {
   "cell_type": "code",
   "execution_count": 23,
   "id": "ab529650",
   "metadata": {
    "scrolled": true
   },
   "outputs": [
    {
     "data": {
      "text/html": [
       "<table class=\"simpletable\">\n",
       "<caption>OLS Regression Results</caption>\n",
       "<tr>\n",
       "  <th>Dep. Variable:</th>       <td>Browse_time</td>   <th>  R-squared:         </th> <td>   0.913</td>\n",
       "</tr>\n",
       "<tr>\n",
       "  <th>Model:</th>                   <td>OLS</td>       <th>  Adj. R-squared:    </th> <td>   0.913</td>\n",
       "</tr>\n",
       "<tr>\n",
       "  <th>Method:</th>             <td>Least Squares</td>  <th>  F-statistic:       </th> <td>   2391.</td>\n",
       "</tr>\n",
       "<tr>\n",
       "  <th>Date:</th>             <td>Sun, 16 Jan 2022</td> <th>  Prob (F-statistic):</th>  <td>  0.00</td> \n",
       "</tr>\n",
       "<tr>\n",
       "  <th>Time:</th>                 <td>16:39:52</td>     <th>  Log-Likelihood:    </th> <td> -2292.9</td>\n",
       "</tr>\n",
       "<tr>\n",
       "  <th>No. Observations:</th>      <td>  1600</td>      <th>  AIC:               </th> <td>   4602.</td>\n",
       "</tr>\n",
       "<tr>\n",
       "  <th>Df Residuals:</th>          <td>  1592</td>      <th>  BIC:               </th> <td>   4645.</td>\n",
       "</tr>\n",
       "<tr>\n",
       "  <th>Df Model:</th>              <td>     7</td>      <th>                     </th>     <td> </td>   \n",
       "</tr>\n",
       "<tr>\n",
       "  <th>Covariance Type:</th>      <td>nonrobust</td>    <th>                     </th>     <td> </td>   \n",
       "</tr>\n",
       "</table>\n",
       "<table class=\"simpletable\">\n",
       "<tr>\n",
       "                                <td></td>                                   <th>coef</th>     <th>std err</th>      <th>t</th>      <th>P>|t|</th>  <th>[0.025</th>    <th>0.975]</th>  \n",
       "</tr>\n",
       "<tr>\n",
       "  <th>Intercept</th>                                                     <td>   25.0169</td> <td>    0.072</td> <td>  347.953</td> <td> 0.000</td> <td>   24.876</td> <td>   25.158</td>\n",
       "</tr>\n",
       "<tr>\n",
       "  <th>C(Match_Score)[T.95]</th>                                          <td>   -5.0037</td> <td>    0.102</td> <td>  -49.211</td> <td> 0.000</td> <td>   -5.203</td> <td>   -4.804</td>\n",
       "</tr>\n",
       "<tr>\n",
       "  <th>C(Prev_Length)[T.115]</th>                                         <td>   -0.0535</td> <td>    0.102</td> <td>   -0.526</td> <td> 0.599</td> <td>   -0.253</td> <td>    0.146</td>\n",
       "</tr>\n",
       "<tr>\n",
       "  <th>C(Prev_type)[T.TT]</th>                                            <td>   -5.1001</td> <td>    0.102</td> <td>  -50.159</td> <td> 0.000</td> <td>   -5.299</td> <td>   -4.901</td>\n",
       "</tr>\n",
       "<tr>\n",
       "  <th>C(Match_Score)[T.95]:C(Prev_Length)[T.115]</th>                    <td>    4.8258</td> <td>    0.144</td> <td>   33.560</td> <td> 0.000</td> <td>    4.544</td> <td>    5.108</td>\n",
       "</tr>\n",
       "<tr>\n",
       "  <th>C(Match_Score)[T.95]:C(Prev_type)[T.TT]</th>                       <td>    0.1382</td> <td>    0.144</td> <td>    0.961</td> <td> 0.337</td> <td>   -0.144</td> <td>    0.420</td>\n",
       "</tr>\n",
       "<tr>\n",
       "  <th>C(Prev_Length)[T.115]:C(Prev_type)[T.TT]</th>                      <td>    0.1590</td> <td>    0.144</td> <td>    1.106</td> <td> 0.269</td> <td>   -0.123</td> <td>    0.441</td>\n",
       "</tr>\n",
       "<tr>\n",
       "  <th>C(Match_Score)[T.95]:C(Prev_Length)[T.115]:C(Prev_type)[T.TT]</th> <td>   -0.4183</td> <td>    0.203</td> <td>   -2.057</td> <td> 0.040</td> <td>   -0.817</td> <td>   -0.019</td>\n",
       "</tr>\n",
       "</table>\n",
       "<table class=\"simpletable\">\n",
       "<tr>\n",
       "  <th>Omnibus:</th>       <td> 0.386</td> <th>  Durbin-Watson:     </th> <td>   2.025</td>\n",
       "</tr>\n",
       "<tr>\n",
       "  <th>Prob(Omnibus):</th> <td> 0.825</td> <th>  Jarque-Bera (JB):  </th> <td>   0.460</td>\n",
       "</tr>\n",
       "<tr>\n",
       "  <th>Skew:</th>          <td>-0.011</td> <th>  Prob(JB):          </th> <td>   0.795</td>\n",
       "</tr>\n",
       "<tr>\n",
       "  <th>Kurtosis:</th>      <td> 2.920</td> <th>  Cond. No.          </th> <td>    17.9</td>\n",
       "</tr>\n",
       "</table><br/><br/>Notes:<br/>[1] Standard Errors assume that the covariance matrix of the errors is correctly specified."
      ],
      "text/plain": [
       "<class 'statsmodels.iolib.summary.Summary'>\n",
       "\"\"\"\n",
       "                            OLS Regression Results                            \n",
       "==============================================================================\n",
       "Dep. Variable:            Browse_time   R-squared:                       0.913\n",
       "Model:                            OLS   Adj. R-squared:                  0.913\n",
       "Method:                 Least Squares   F-statistic:                     2391.\n",
       "Date:                Sun, 16 Jan 2022   Prob (F-statistic):               0.00\n",
       "Time:                        16:39:52   Log-Likelihood:                -2292.9\n",
       "No. Observations:                1600   AIC:                             4602.\n",
       "Df Residuals:                    1592   BIC:                             4645.\n",
       "Df Model:                           7                                         \n",
       "Covariance Type:            nonrobust                                         \n",
       "=================================================================================================================================\n",
       "                                                                    coef    std err          t      P>|t|      [0.025      0.975]\n",
       "---------------------------------------------------------------------------------------------------------------------------------\n",
       "Intercept                                                        25.0169      0.072    347.953      0.000      24.876      25.158\n",
       "C(Match_Score)[T.95]                                             -5.0037      0.102    -49.211      0.000      -5.203      -4.804\n",
       "C(Prev_Length)[T.115]                                            -0.0535      0.102     -0.526      0.599      -0.253       0.146\n",
       "C(Prev_type)[T.TT]                                               -5.1001      0.102    -50.159      0.000      -5.299      -4.901\n",
       "C(Match_Score)[T.95]:C(Prev_Length)[T.115]                        4.8258      0.144     33.560      0.000       4.544       5.108\n",
       "C(Match_Score)[T.95]:C(Prev_type)[T.TT]                           0.1382      0.144      0.961      0.337      -0.144       0.420\n",
       "C(Prev_Length)[T.115]:C(Prev_type)[T.TT]                          0.1590      0.144      1.106      0.269      -0.123       0.441\n",
       "C(Match_Score)[T.95]:C(Prev_Length)[T.115]:C(Prev_type)[T.TT]    -0.4183      0.203     -2.057      0.040      -0.817      -0.019\n",
       "==============================================================================\n",
       "Omnibus:                        0.386   Durbin-Watson:                   2.025\n",
       "Prob(Omnibus):                  0.825   Jarque-Bera (JB):                0.460\n",
       "Skew:                          -0.011   Prob(JB):                        0.795\n",
       "Kurtosis:                       2.920   Cond. No.                         17.9\n",
       "==============================================================================\n",
       "\n",
       "Notes:\n",
       "[1] Standard Errors assume that the covariance matrix of the errors is correctly specified.\n",
       "\"\"\""
      ]
     },
     "execution_count": 23,
     "metadata": {},
     "output_type": "execute_result"
    }
   ],
   "source": [
    "model_red3.summary()"
   ]
  },
  {
   "cell_type": "code",
   "execution_count": 24,
   "id": "16aab2ed",
   "metadata": {
    "scrolled": true
   },
   "outputs": [
    {
     "data": {
      "text/html": [
       "<div>\n",
       "<style scoped>\n",
       "    .dataframe tbody tr th:only-of-type {\n",
       "        vertical-align: middle;\n",
       "    }\n",
       "\n",
       "    .dataframe tbody tr th {\n",
       "        vertical-align: top;\n",
       "    }\n",
       "\n",
       "    .dataframe thead th {\n",
       "        text-align: right;\n",
       "    }\n",
       "</style>\n",
       "<table border=\"1\" class=\"dataframe\">\n",
       "  <thead>\n",
       "    <tr style=\"text-align: right;\">\n",
       "      <th></th>\n",
       "      <th>Match_Score</th>\n",
       "      <th>Prev_Length</th>\n",
       "      <th>Prev_type</th>\n",
       "      <th>Browse_time</th>\n",
       "    </tr>\n",
       "  </thead>\n",
       "  <tbody>\n",
       "    <tr>\n",
       "      <th>1</th>\n",
       "      <td>5</td>\n",
       "      <td>35</td>\n",
       "      <td>TT</td>\n",
       "      <td>19.916864</td>\n",
       "    </tr>\n",
       "    <tr>\n",
       "      <th>3</th>\n",
       "      <td>5</td>\n",
       "      <td>115</td>\n",
       "      <td>TT</td>\n",
       "      <td>20.022408</td>\n",
       "    </tr>\n",
       "    <tr>\n",
       "      <th>5</th>\n",
       "      <td>95</td>\n",
       "      <td>35</td>\n",
       "      <td>TT</td>\n",
       "      <td>15.051362</td>\n",
       "    </tr>\n",
       "    <tr>\n",
       "      <th>7</th>\n",
       "      <td>95</td>\n",
       "      <td>115</td>\n",
       "      <td>TT</td>\n",
       "      <td>19.564350</td>\n",
       "    </tr>\n",
       "  </tbody>\n",
       "</table>\n",
       "</div>"
      ],
      "text/plain": [
       "   Match_Score  Prev_Length Prev_type  Browse_time\n",
       "1            5           35        TT    19.916864\n",
       "3            5          115        TT    20.022408\n",
       "5           95           35        TT    15.051362\n",
       "7           95          115        TT    19.564350"
      ]
     },
     "execution_count": 24,
     "metadata": {},
     "output_type": "execute_result"
    }
   ],
   "source": [
    "df[(df['Prev_type'] == 'TT')][['Match_Score','Prev_Length','Prev_type','Browse_time']]"
   ]
  },
  {
   "cell_type": "markdown",
   "id": "17c054cd",
   "metadata": {},
   "source": [
    "### Looking at the interaction plots of Prev_type"
   ]
  },
  {
   "cell_type": "code",
   "execution_count": 25,
   "id": "2543da12",
   "metadata": {},
   "outputs": [],
   "source": [
    "### Match score 5 prev type TT\n",
    "match_score_5_TT = df[(df['Prev_type'] == 'TT') & (df['Match_Score'] == 5)][['Prev_Length','Browse_time']]\n",
    "\n",
    "### Match score 95 prev type TT\n",
    "match_score_95_TT  = df[(df['Prev_type'] == 'TT') & (df['Match_Score'] == 95)][['Prev_Length','Browse_time']]\n",
    "\n",
    "\n",
    "### Match score 95 prev type AC\n",
    "match_score_5_AC  = df[(df['Prev_type'] == 'AC') & (df['Match_Score'] == 5)][['Prev_Length','Browse_time']]\n",
    "\n",
    "### Match score 5 prev type AC\n",
    "match_score_95_AC  = df[(df['Prev_type'] == 'AC') & (df['Match_Score'] == 95)][['Prev_Length','Browse_time']]"
   ]
  },
  {
   "cell_type": "code",
   "execution_count": 26,
   "id": "d598850a",
   "metadata": {},
   "outputs": [
    {
     "data": {
      "text/html": [
       "<div>\n",
       "<style scoped>\n",
       "    .dataframe tbody tr th:only-of-type {\n",
       "        vertical-align: middle;\n",
       "    }\n",
       "\n",
       "    .dataframe tbody tr th {\n",
       "        vertical-align: top;\n",
       "    }\n",
       "\n",
       "    .dataframe thead th {\n",
       "        text-align: right;\n",
       "    }\n",
       "</style>\n",
       "<table border=\"1\" class=\"dataframe\">\n",
       "  <thead>\n",
       "    <tr style=\"text-align: right;\">\n",
       "      <th></th>\n",
       "      <th>Prev_Length</th>\n",
       "      <th>Browse_time</th>\n",
       "    </tr>\n",
       "  </thead>\n",
       "  <tbody>\n",
       "    <tr>\n",
       "      <th>1</th>\n",
       "      <td>35</td>\n",
       "      <td>19.916864</td>\n",
       "    </tr>\n",
       "    <tr>\n",
       "      <th>3</th>\n",
       "      <td>115</td>\n",
       "      <td>20.022408</td>\n",
       "    </tr>\n",
       "  </tbody>\n",
       "</table>\n",
       "</div>"
      ],
      "text/plain": [
       "   Prev_Length  Browse_time\n",
       "1           35    19.916864\n",
       "3          115    20.022408"
      ]
     },
     "execution_count": 26,
     "metadata": {},
     "output_type": "execute_result"
    }
   ],
   "source": [
    "match_score_5_TT"
   ]
  },
  {
   "cell_type": "code",
   "execution_count": 27,
   "id": "381975fc",
   "metadata": {},
   "outputs": [
    {
     "data": {
      "text/html": [
       "<div>\n",
       "<style scoped>\n",
       "    .dataframe tbody tr th:only-of-type {\n",
       "        vertical-align: middle;\n",
       "    }\n",
       "\n",
       "    .dataframe tbody tr th {\n",
       "        vertical-align: top;\n",
       "    }\n",
       "\n",
       "    .dataframe thead th {\n",
       "        text-align: right;\n",
       "    }\n",
       "</style>\n",
       "<table border=\"1\" class=\"dataframe\">\n",
       "  <thead>\n",
       "    <tr style=\"text-align: right;\">\n",
       "      <th></th>\n",
       "      <th>Prev_Length</th>\n",
       "      <th>Browse_time</th>\n",
       "    </tr>\n",
       "  </thead>\n",
       "  <tbody>\n",
       "    <tr>\n",
       "      <th>1</th>\n",
       "      <td>35</td>\n",
       "      <td>19.916864</td>\n",
       "    </tr>\n",
       "    <tr>\n",
       "      <th>3</th>\n",
       "      <td>115</td>\n",
       "      <td>20.022408</td>\n",
       "    </tr>\n",
       "  </tbody>\n",
       "</table>\n",
       "</div>"
      ],
      "text/plain": [
       "   Prev_Length  Browse_time\n",
       "1           35    19.916864\n",
       "3          115    20.022408"
      ]
     },
     "execution_count": 27,
     "metadata": {},
     "output_type": "execute_result"
    }
   ],
   "source": [
    "match_score_5_TT"
   ]
  },
  {
   "cell_type": "code",
   "execution_count": 28,
   "id": "27dc17af",
   "metadata": {},
   "outputs": [
    {
     "data": {
      "text/plain": [
       "(array([ 35, 115]), array([19.91686443, 20.02240757]))"
      ]
     },
     "execution_count": 28,
     "metadata": {},
     "output_type": "execute_result"
    }
   ],
   "source": [
    "match_score_5_TT['Prev_Length'].values, match_score_5_TT['Browse_time'].values"
   ]
  },
  {
   "cell_type": "code",
   "execution_count": 29,
   "id": "76455cef",
   "metadata": {},
   "outputs": [
    {
     "data": {
      "text/html": [
       "<div>\n",
       "<style scoped>\n",
       "    .dataframe tbody tr th:only-of-type {\n",
       "        vertical-align: middle;\n",
       "    }\n",
       "\n",
       "    .dataframe tbody tr th {\n",
       "        vertical-align: top;\n",
       "    }\n",
       "\n",
       "    .dataframe thead th {\n",
       "        text-align: right;\n",
       "    }\n",
       "</style>\n",
       "<table border=\"1\" class=\"dataframe\">\n",
       "  <thead>\n",
       "    <tr style=\"text-align: right;\">\n",
       "      <th></th>\n",
       "      <th>Prev_Length</th>\n",
       "      <th>Browse_time</th>\n",
       "    </tr>\n",
       "  </thead>\n",
       "  <tbody>\n",
       "    <tr>\n",
       "      <th>1</th>\n",
       "      <td>35</td>\n",
       "      <td>19.916864</td>\n",
       "    </tr>\n",
       "    <tr>\n",
       "      <th>3</th>\n",
       "      <td>115</td>\n",
       "      <td>20.022408</td>\n",
       "    </tr>\n",
       "  </tbody>\n",
       "</table>\n",
       "</div>"
      ],
      "text/plain": [
       "   Prev_Length  Browse_time\n",
       "1           35    19.916864\n",
       "3          115    20.022408"
      ]
     },
     "execution_count": 29,
     "metadata": {},
     "output_type": "execute_result"
    }
   ],
   "source": [
    "match_score_5_TT"
   ]
  },
  {
   "cell_type": "code",
   "execution_count": 30,
   "id": "f6494656",
   "metadata": {},
   "outputs": [
    {
     "data": {
      "text/html": [
       "<div>\n",
       "<style scoped>\n",
       "    .dataframe tbody tr th:only-of-type {\n",
       "        vertical-align: middle;\n",
       "    }\n",
       "\n",
       "    .dataframe tbody tr th {\n",
       "        vertical-align: top;\n",
       "    }\n",
       "\n",
       "    .dataframe thead th {\n",
       "        text-align: right;\n",
       "    }\n",
       "</style>\n",
       "<table border=\"1\" class=\"dataframe\">\n",
       "  <thead>\n",
       "    <tr style=\"text-align: right;\">\n",
       "      <th></th>\n",
       "      <th>Prev_Length</th>\n",
       "      <th>Browse_time</th>\n",
       "    </tr>\n",
       "  </thead>\n",
       "  <tbody>\n",
       "    <tr>\n",
       "      <th>0</th>\n",
       "      <td>35</td>\n",
       "      <td>25.016915</td>\n",
       "    </tr>\n",
       "    <tr>\n",
       "      <th>2</th>\n",
       "      <td>115</td>\n",
       "      <td>24.963423</td>\n",
       "    </tr>\n",
       "  </tbody>\n",
       "</table>\n",
       "</div>"
      ],
      "text/plain": [
       "   Prev_Length  Browse_time\n",
       "0           35    25.016915\n",
       "2          115    24.963423"
      ]
     },
     "execution_count": 30,
     "metadata": {},
     "output_type": "execute_result"
    }
   ],
   "source": [
    "match_score_5_AC"
   ]
  },
  {
   "cell_type": "code",
   "execution_count": 31,
   "id": "e3413cea",
   "metadata": {},
   "outputs": [
    {
     "data": {
      "text/html": [
       "<div>\n",
       "<style scoped>\n",
       "    .dataframe tbody tr th:only-of-type {\n",
       "        vertical-align: middle;\n",
       "    }\n",
       "\n",
       "    .dataframe tbody tr th {\n",
       "        vertical-align: top;\n",
       "    }\n",
       "\n",
       "    .dataframe thead th {\n",
       "        text-align: right;\n",
       "    }\n",
       "</style>\n",
       "<table border=\"1\" class=\"dataframe\">\n",
       "  <thead>\n",
       "    <tr style=\"text-align: right;\">\n",
       "      <th></th>\n",
       "      <th>Prev_Length</th>\n",
       "      <th>Browse_time</th>\n",
       "    </tr>\n",
       "  </thead>\n",
       "  <tbody>\n",
       "    <tr>\n",
       "      <th>5</th>\n",
       "      <td>35</td>\n",
       "      <td>15.051362</td>\n",
       "    </tr>\n",
       "    <tr>\n",
       "      <th>7</th>\n",
       "      <td>115</td>\n",
       "      <td>19.564350</td>\n",
       "    </tr>\n",
       "  </tbody>\n",
       "</table>\n",
       "</div>"
      ],
      "text/plain": [
       "   Prev_Length  Browse_time\n",
       "5           35    15.051362\n",
       "7          115    19.564350"
      ]
     },
     "execution_count": 31,
     "metadata": {},
     "output_type": "execute_result"
    }
   ],
   "source": [
    "match_score_95_TT"
   ]
  },
  {
   "cell_type": "code",
   "execution_count": 32,
   "id": "0d8dbab2",
   "metadata": {},
   "outputs": [
    {
     "data": {
      "image/png": "[encoded data removed]",
      "text/plain": [
       "<Figure size 432x288 with 1 Axes>"
      ]
     },
     "metadata": {
      "needs_background": "light"
     },
     "output_type": "display_data"
    }
   ],
   "source": [
    "plt.plot(match_score_5_TT['Prev_Length'].values, match_score_5_TT['Browse_time'].values ,\n",
    "             label = 'match score 5 prev type TT')\n",
    "\n",
    "plt.plot(match_score_95_TT['Prev_Length'].values, match_score_95_TT['Browse_time'].values ,\n",
    "          label = 'match score 95 prev type TT')\n",
    "\n",
    "plt.legend()\n",
    "plt.ylabel('Browsing Time')\n",
    "plt.xlabel('Previous Length')\n",
    "plt.show()"
   ]
  },
  {
   "cell_type": "code",
   "execution_count": 33,
   "id": "3dc6563f",
   "metadata": {
    "scrolled": false
   },
   "outputs": [
    {
     "data": {
      "image/png": "[encoded data removed]",
      "text/plain": [
       "<Figure size 432x288 with 1 Axes>"
      ]
     },
     "metadata": {
      "needs_background": "light"
     },
     "output_type": "display_data"
    }
   ],
   "source": [
    "plt.plot(match_score_5_AC['Prev_Length'].values, match_score_5_AC['Browse_time'].values ,\n",
    "             label = 'match score 5 prev type AC')\n",
    "\n",
    "plt.plot(match_score_95_AC['Prev_Length'].values, match_score_95_AC['Browse_time'].values ,\n",
    "          label = 'match score 95 prev type AC')\n",
    "\n",
    "plt.legend()\n",
    "plt.ylabel('Browsing Time')\n",
    "plt.xlabel('Previous Length')\n",
    "plt.show()"
   ]
  },
  {
   "cell_type": "code",
   "execution_count": 34,
   "id": "27e0aa13",
   "metadata": {},
   "outputs": [],
   "source": [
    "### Match score 95 prev type agnostic\n",
    "match_score_5  = df[(df['Match_Score'] == 5)][['Prev_Length','Browse_time']]\n",
    "\n",
    "### Match score 5 prev type AC\n",
    "match_score_95  = df[ (df['Match_Score'] == 95)][['Prev_Length','Browse_time']]\n",
    "\n",
    "match_score_5 = match_score_5.groupby( by = ['Prev_Length']).mean().reset_index()\n",
    "match_score_95 = match_score_95.groupby( by = ['Prev_Length']).mean().reset_index()"
   ]
  },
  {
   "cell_type": "code",
   "execution_count": 35,
   "id": "e8dea8cf",
   "metadata": {},
   "outputs": [
    {
     "data": {
      "image/png": "[encoded data removed]",
      "text/plain": [
       "<Figure size 432x288 with 1 Axes>"
      ]
     },
     "metadata": {
      "needs_background": "light"
     },
     "output_type": "display_data"
    }
   ],
   "source": [
    "plt.plot(match_score_5['Prev_Length'].values, match_score_5['Browse_time'].values ,\n",
    "             label = 'match score 5')\n",
    "\n",
    "plt.plot(match_score_95['Prev_Length'].values, match_score_95['Browse_time'].values ,\n",
    "          label = 'match score 95 prev type')\n",
    "\n",
    "plt.legend()\n",
    "plt.ylabel('Browsing Time')\n",
    "plt.xlabel('Previous Length')\n",
    "plt.show()"
   ]
  },
  {
   "cell_type": "code",
   "execution_count": 36,
   "id": "1bbcccd4",
   "metadata": {},
   "outputs": [],
   "source": [
    "match_score_5 = match_score_5.groupby( by = ['Prev_Length']).mean().reset_index()\n",
    "match_score_95 = match_score_95.groupby( by = ['Prev_Length']).mean().reset_index()"
   ]
  },
  {
   "cell_type": "code",
   "execution_count": 37,
   "id": "4ea98a79",
   "metadata": {},
   "outputs": [],
   "source": [
    "### initial guess for checks prev type should be TT(teaser)"
   ]
  },
  {
   "cell_type": "code",
   "execution_count": 38,
   "id": "6d99ea10",
   "metadata": {},
   "outputs": [
    {
     "data": {
      "text/html": [
       "<div>\n",
       "<style scoped>\n",
       "    .dataframe tbody tr th:only-of-type {\n",
       "        vertical-align: middle;\n",
       "    }\n",
       "\n",
       "    .dataframe tbody tr th {\n",
       "        vertical-align: top;\n",
       "    }\n",
       "\n",
       "    .dataframe thead th {\n",
       "        text-align: right;\n",
       "    }\n",
       "</style>\n",
       "<table border=\"1\" class=\"dataframe\">\n",
       "  <thead>\n",
       "    <tr style=\"text-align: right;\">\n",
       "      <th></th>\n",
       "      <th>Prev_Length</th>\n",
       "      <th>Browse_time</th>\n",
       "    </tr>\n",
       "  </thead>\n",
       "  <tbody>\n",
       "    <tr>\n",
       "      <th>0</th>\n",
       "      <td>35</td>\n",
       "      <td>22.466890</td>\n",
       "    </tr>\n",
       "    <tr>\n",
       "      <th>1</th>\n",
       "      <td>115</td>\n",
       "      <td>22.492915</td>\n",
       "    </tr>\n",
       "  </tbody>\n",
       "</table>\n",
       "</div>"
      ],
      "text/plain": [
       "   Prev_Length  Browse_time\n",
       "0           35    22.466890\n",
       "1          115    22.492915"
      ]
     },
     "execution_count": 38,
     "metadata": {},
     "output_type": "execute_result"
    }
   ],
   "source": [
    "match_score_5"
   ]
  },
  {
   "cell_type": "code",
   "execution_count": 47,
   "id": "de937576",
   "metadata": {},
   "outputs": [],
   "source": [
    "# match_score_95()"
   ]
  },
  {
   "cell_type": "code",
   "execution_count": 48,
   "id": "9c2761dc",
   "metadata": {},
   "outputs": [],
   "source": [
    "# try preview length 30 "
   ]
  },
  {
   "cell_type": "code",
   "execution_count": 41,
   "id": "ade043ab",
   "metadata": {},
   "outputs": [],
   "source": [
    "## our current minimum is at (preview length = 35 and match score is 95)"
   ]
  },
  {
   "cell_type": "markdown",
   "id": "a6b6a844",
   "metadata": {},
   "source": [
    "## HP Testing of Prev_type"
   ]
  },
  {
   "cell_type": "code",
   "execution_count": 6,
   "id": "ad58a2e9",
   "metadata": {},
   "outputs": [],
   "source": [
    "project_df = pd.read_csv('RESULTS_azxcvbnm_2022-01-16.csv')"
   ]
  },
  {
   "cell_type": "code",
   "execution_count": 7,
   "id": "7453b23a",
   "metadata": {},
   "outputs": [],
   "source": [
    "project_df.rename(columns = {'Tile.Size': 'Tile_size', 'Prev.Type':'Prev_type', \n",
    "                             'Browse.Time': 'Browse_time','Prev.Length':'Prev_Length'\n",
    "                            ,'Match.Score':'Match_Score'}, inplace = True)"
   ]
  },
  {
   "cell_type": "code",
   "execution_count": 11,
   "id": "00fafa6a",
   "metadata": {},
   "outputs": [
    {
     "data": {
      "text/html": [
       "<div>\n",
       "<style scoped>\n",
       "    .dataframe tbody tr th:only-of-type {\n",
       "        vertical-align: middle;\n",
       "    }\n",
       "\n",
       "    .dataframe tbody tr th {\n",
       "        vertical-align: top;\n",
       "    }\n",
       "\n",
       "    .dataframe thead th {\n",
       "        text-align: right;\n",
       "    }\n",
       "</style>\n",
       "<table border=\"1\" class=\"dataframe\">\n",
       "  <thead>\n",
       "    <tr style=\"text-align: right;\">\n",
       "      <th></th>\n",
       "      <th>Prev_Length</th>\n",
       "      <th>Match_Score</th>\n",
       "      <th>Tile_size</th>\n",
       "      <th>Prev_type</th>\n",
       "      <th>Browse_time</th>\n",
       "    </tr>\n",
       "  </thead>\n",
       "  <tbody>\n",
       "    <tr>\n",
       "      <th>0</th>\n",
       "      <td>35</td>\n",
       "      <td>5</td>\n",
       "      <td>0.15</td>\n",
       "      <td>TT</td>\n",
       "      <td>19.874719</td>\n",
       "    </tr>\n",
       "    <tr>\n",
       "      <th>1</th>\n",
       "      <td>115</td>\n",
       "      <td>5</td>\n",
       "      <td>0.15</td>\n",
       "      <td>TT</td>\n",
       "      <td>19.366768</td>\n",
       "    </tr>\n",
       "    <tr>\n",
       "      <th>2</th>\n",
       "      <td>35</td>\n",
       "      <td>95</td>\n",
       "      <td>0.15</td>\n",
       "      <td>TT</td>\n",
       "      <td>15.143392</td>\n",
       "    </tr>\n",
       "    <tr>\n",
       "      <th>3</th>\n",
       "      <td>115</td>\n",
       "      <td>95</td>\n",
       "      <td>0.15</td>\n",
       "      <td>TT</td>\n",
       "      <td>21.411977</td>\n",
       "    </tr>\n",
       "    <tr>\n",
       "      <th>4</th>\n",
       "      <td>35</td>\n",
       "      <td>5</td>\n",
       "      <td>0.45</td>\n",
       "      <td>TT</td>\n",
       "      <td>17.890835</td>\n",
       "    </tr>\n",
       "    <tr>\n",
       "      <th>...</th>\n",
       "      <td>...</td>\n",
       "      <td>...</td>\n",
       "      <td>...</td>\n",
       "      <td>...</td>\n",
       "      <td>...</td>\n",
       "    </tr>\n",
       "    <tr>\n",
       "      <th>1595</th>\n",
       "      <td>115</td>\n",
       "      <td>95</td>\n",
       "      <td>0.15</td>\n",
       "      <td>AC</td>\n",
       "      <td>25.463533</td>\n",
       "    </tr>\n",
       "    <tr>\n",
       "      <th>1596</th>\n",
       "      <td>35</td>\n",
       "      <td>5</td>\n",
       "      <td>0.45</td>\n",
       "      <td>AC</td>\n",
       "      <td>23.154255</td>\n",
       "    </tr>\n",
       "    <tr>\n",
       "      <th>1597</th>\n",
       "      <td>115</td>\n",
       "      <td>5</td>\n",
       "      <td>0.45</td>\n",
       "      <td>AC</td>\n",
       "      <td>25.098558</td>\n",
       "    </tr>\n",
       "    <tr>\n",
       "      <th>1598</th>\n",
       "      <td>35</td>\n",
       "      <td>95</td>\n",
       "      <td>0.45</td>\n",
       "      <td>AC</td>\n",
       "      <td>20.951288</td>\n",
       "    </tr>\n",
       "    <tr>\n",
       "      <th>1599</th>\n",
       "      <td>115</td>\n",
       "      <td>95</td>\n",
       "      <td>0.45</td>\n",
       "      <td>AC</td>\n",
       "      <td>25.487501</td>\n",
       "    </tr>\n",
       "  </tbody>\n",
       "</table>\n",
       "<p>1600 rows × 5 columns</p>\n",
       "</div>"
      ],
      "text/plain": [
       "      Prev_Length  Match_Score  Tile_size Prev_type  Browse_time\n",
       "0              35            5       0.15        TT    19.874719\n",
       "1             115            5       0.15        TT    19.366768\n",
       "2              35           95       0.15        TT    15.143392\n",
       "3             115           95       0.15        TT    21.411977\n",
       "4              35            5       0.45        TT    17.890835\n",
       "...           ...          ...        ...       ...          ...\n",
       "1595          115           95       0.15        AC    25.463533\n",
       "1596           35            5       0.45        AC    23.154255\n",
       "1597          115            5       0.45        AC    25.098558\n",
       "1598           35           95       0.45        AC    20.951288\n",
       "1599          115           95       0.45        AC    25.487501\n",
       "\n",
       "[1600 rows x 5 columns]"
      ]
     },
     "execution_count": 11,
     "metadata": {},
     "output_type": "execute_result"
    }
   ],
   "source": [
    "df1 = project_df\n",
    "df1"
   ]
  },
  {
   "cell_type": "markdown",
   "id": "a4655661",
   "metadata": {},
   "source": [
    "<li> Let all other factors being equal, we only test the Prev_type"
   ]
  },
  {
   "cell_type": "code",
   "execution_count": 12,
   "id": "3cd193ff",
   "metadata": {},
   "outputs": [],
   "source": [
    "cond1_df = df1[(df1.Prev_Length==35)&(df1.Match_Score==5)&(df1.Tile_size==0.15)&(df1.Prev_type==\"AC\")]"
   ]
  },
  {
   "cell_type": "code",
   "execution_count": 13,
   "id": "aed63af3",
   "metadata": {},
   "outputs": [],
   "source": [
    "cond2_df = df1[(df1.Prev_Length==35)&(df1.Match_Score==5)&(df1.Tile_size==0.15)&(df1.Prev_type==\"TT\")]"
   ]
  },
  {
   "cell_type": "code",
   "execution_count": 14,
   "id": "8fb9b96c",
   "metadata": {},
   "outputs": [],
   "source": [
    "# from scipy import stats"
   ]
  },
  {
   "cell_type": "code",
   "execution_count": 93,
   "id": "3bda2232",
   "metadata": {
    "scrolled": false
   },
   "outputs": [
    {
     "data": {
      "text/plain": [
       "<matplotlib.collections.LineCollection at 0x7ff5ec3d6fa0>"
      ]
     },
     "execution_count": 93,
     "metadata": {},
     "output_type": "execute_result"
    },
    {
     "data": {
      "image/png": "[encoded data removed]",
      "text/plain": [
       "<Figure size 432x288 with 1 Axes>"
      ]
     },
     "metadata": {
      "needs_background": "light"
     },
     "output_type": "display_data"
    },
    {
     "data": {
      "image/png": "[encoded data removed]",
      "text/plain": [
       "<Figure size 432x288 with 1 Axes>"
      ]
     },
     "metadata": {
      "needs_background": "light"
     },
     "output_type": "display_data"
    }
   ],
   "source": [
    "cond1 = cond1_df[\"Browse_time\"]\n",
    "cond2 = cond2_df[\"Browse_time\"]\n",
    "xmin = min(min(cond1), min(cond2))\n",
    "xmax = max(max(cond1), max(cond2))\n",
    "plt.figure()\n",
    "plt.hist(cond1, color = \"white\", edgecolor = \"black\")\n",
    "plt.xlim(xmin,xmax)\n",
    "plt.xlabel(\"Minutes Engaged\")\n",
    "plt.ylabel(\"Frequency\")\n",
    "plt.title(\"Condition 1\")\n",
    "plt.vlines(x = np.mean(cond1), ymin = 0, ymax = 120, color = \"red\", linewidth = 2)\n",
    "plt.figure()\n",
    "plt.hist(cond2, color = \"white\", edgecolor = \"black\")\n",
    "plt.xlim(xmin,xmax)\n",
    "plt.xlabel(\"Browsing Time(s)\")\n",
    "plt.ylabel(\"Frequency\")\n",
    "plt.title(\"Condition 2\")\n",
    "plt.vlines(x = np.mean(cond2), ymin = 0, ymax = 120, color = \"red\", linewidth = 2)"
   ]
  },
  {
   "cell_type": "code",
   "execution_count": 96,
   "id": "faec45cd",
   "metadata": {},
   "outputs": [
    {
     "name": "stdout",
     "output_type": "stream",
     "text": [
      "t = 1.1422438863867455\n"
     ]
    }
   ],
   "source": [
    "#F-test\n",
    "t = np.var(cond1, ddof = 1)/np.var(cond2, ddof = 1)\n",
    "print(\"t =\", t)# test statistic"
   ]
  },
  {
   "cell_type": "code",
   "execution_count": 97,
   "id": "3d1f51bd",
   "metadata": {},
   "outputs": [
    {
     "name": "stdout",
     "output_type": "stream",
     "text": [
      "p-value = 1.4905722586884171\n"
     ]
    }
   ],
   "source": [
    "pv = stats.f.cdf(t, dfn=99, dfd=99) + 1 - stats.f.cdf(1/t, dfn=99, dfd=99)\n",
    "#cdf gives the left tail probability\n",
    "print(\"p-value =\", pv)\n"
   ]
  },
  {
   "cell_type": "markdown",
   "id": "1f3fe655",
   "metadata": {},
   "source": [
    "<li> We fail to reject the hypothesis that the variance of each two condition is not equal"
   ]
  },
  {
   "cell_type": "markdown",
   "id": "e651cab3",
   "metadata": {},
   "source": [
    "$$H_0:\\mu_1\\leq\\mu_2 \\text{ vs. }H_A:\\mu_1>\\mu_2$$"
   ]
  },
  {
   "cell_type": "code",
   "execution_count": 100,
   "id": "1451a63d",
   "metadata": {},
   "outputs": [
    {
     "name": "stdout",
     "output_type": "stream",
     "text": [
      "t = 37.1651025892116\n",
      "p-value = 1.6001627358171162e-91\n"
     ]
    }
   ],
   "source": [
    "t, pv = stats.ttest_ind(cond1, cond2, equal_var = True, alternative = 'greater')\n",
    "print(\"t =\", t)\n",
    "print(\"p-value =\", pv)"
   ]
  },
  {
   "cell_type": "markdown",
   "id": "cc7eb9ad",
   "metadata": {},
   "source": [
    "<li> We reject the hypothesis and we draw the conclusion that TT's browsing time is less than AC\n",
    "<li> We will us TT in the following test"
   ]
  },
  {
   "cell_type": "markdown",
   "id": "84af9ce0",
   "metadata": {},
   "source": [
    "## Further study"
   ]
  },
  {
   "cell_type": "markdown",
   "id": "afc489bc",
   "metadata": {},
   "source": [
    "### Step2.1"
   ]
  },
  {
   "cell_type": "raw",
   "id": "04be4734",
   "metadata": {},
   "source": [
    "Step 2\n",
    "Points checked: (preview_len, match score): \n",
    "(30,90), (40,90), (45,90), (30,100), (40,100), (45,100)"
   ]
  },
  {
   "cell_type": "code",
   "execution_count": 37,
   "id": "e7aef1a8",
   "metadata": {},
   "outputs": [],
   "source": [
    "step2_df = pd.read_csv('RESULTS_azxcvbnm_2022-01-16_step2.csv')"
   ]
  },
  {
   "cell_type": "code",
   "execution_count": 38,
   "id": "e991dc9f",
   "metadata": {},
   "outputs": [
    {
     "data": {
      "text/html": [
       "<div>\n",
       "<style scoped>\n",
       "    .dataframe tbody tr th:only-of-type {\n",
       "        vertical-align: middle;\n",
       "    }\n",
       "\n",
       "    .dataframe tbody tr th {\n",
       "        vertical-align: top;\n",
       "    }\n",
       "\n",
       "    .dataframe thead th {\n",
       "        text-align: right;\n",
       "    }\n",
       "</style>\n",
       "<table border=\"1\" class=\"dataframe\">\n",
       "  <thead>\n",
       "    <tr style=\"text-align: right;\">\n",
       "      <th></th>\n",
       "      <th>Prev.Length</th>\n",
       "      <th>Match.Score</th>\n",
       "      <th>Browse.Time</th>\n",
       "    </tr>\n",
       "  </thead>\n",
       "  <tbody>\n",
       "    <tr>\n",
       "      <th>0</th>\n",
       "      <td>30</td>\n",
       "      <td>90</td>\n",
       "      <td>15.308083</td>\n",
       "    </tr>\n",
       "    <tr>\n",
       "      <th>1</th>\n",
       "      <td>30</td>\n",
       "      <td>100</td>\n",
       "      <td>16.910158</td>\n",
       "    </tr>\n",
       "    <tr>\n",
       "      <th>2</th>\n",
       "      <td>40</td>\n",
       "      <td>90</td>\n",
       "      <td>13.820807</td>\n",
       "    </tr>\n",
       "    <tr>\n",
       "      <th>3</th>\n",
       "      <td>40</td>\n",
       "      <td>100</td>\n",
       "      <td>15.211392</td>\n",
       "    </tr>\n",
       "    <tr>\n",
       "      <th>4</th>\n",
       "      <td>45</td>\n",
       "      <td>90</td>\n",
       "      <td>13.632778</td>\n",
       "    </tr>\n",
       "    <tr>\n",
       "      <th>5</th>\n",
       "      <td>45</td>\n",
       "      <td>100</td>\n",
       "      <td>15.021115</td>\n",
       "    </tr>\n",
       "  </tbody>\n",
       "</table>\n",
       "</div>"
      ],
      "text/plain": [
       "   Prev.Length  Match.Score  Browse.Time\n",
       "0           30           90    15.308083\n",
       "1           30          100    16.910158\n",
       "2           40           90    13.820807\n",
       "3           40          100    15.211392\n",
       "4           45           90    13.632778\n",
       "5           45          100    15.021115"
      ]
     },
     "execution_count": 38,
     "metadata": {},
     "output_type": "execute_result"
    }
   ],
   "source": [
    "step2_df.groupby(by = ['Prev.Length', 'Match.Score']).mean().reset_index()[['Prev.Length', 'Match.Score', 'Browse.Time']]"
   ]
  },
  {
   "cell_type": "code",
   "execution_count": 39,
   "id": "73e11034",
   "metadata": {},
   "outputs": [],
   "source": [
    "step2_df.rename(columns = {'Tile.Size': 'Tile_size', 'Prev.Type':'Prev_type', \n",
    "                             'Browse.Time': 'Browse_time','Prev.Length':'Prev_Length'\n",
    "                            ,'Match.Score':'Match_Score'}, inplace = True)"
   ]
  },
  {
   "cell_type": "markdown",
   "id": "908411be",
   "metadata": {},
   "source": [
    "$$H_0:\\mu_1\\leq\\mu_2 \\text{ vs. }H_A:\\mu_1>\\mu_2$$"
   ]
  },
  {
   "cell_type": "code",
   "execution_count": 40,
   "id": "7ec30fc8",
   "metadata": {},
   "outputs": [],
   "source": [
    "def t_test(df, prev_length1,match_score1,prev_length2,match_score2,moi=\"Browse_time\"):\n",
    "    cond1_df = df[(df.Prev_Length==prev_length1)&(df.Match_Score==match_score1)]\n",
    "    cond2_df = df[(df.Prev_Length==prev_length2)&(df.Match_Score==match_score2)]\n",
    "    cond1 = cond1_df[\"Browse_time\"]\n",
    "    cond2 = cond2_df[\"Browse_time\"]\n",
    "    #F-test\n",
    "    t = np.var(cond1, ddof = 1)/np.var(cond2, ddof = 1)\n",
    "    pv = stats.f.cdf(t, dfn=99, dfd=99) + 1 - stats.f.cdf(1/t, dfn=99, dfd=99)\n",
    "    if pv<0.05:\n",
    "        var = False\n",
    "    else:\n",
    "        var = True\n",
    "    #T-test\n",
    "    t, pv = stats.ttest_ind(cond1, cond2, equal_var = var, alternative = 'greater')\n",
    "    return pv"
   ]
  },
  {
   "cell_type": "code",
   "execution_count": 41,
   "id": "e685325e",
   "metadata": {},
   "outputs": [],
   "source": [
    "pv1 = t_test(step2_df,30,100,40,100)\n",
    "pv2 = t_test(step2_df,40,100,45,100)\n",
    "pv3 = t_test(step2_df,30,100,45,100)"
   ]
  },
  {
   "cell_type": "code",
   "execution_count": 42,
   "id": "9f696a09",
   "metadata": {},
   "outputs": [
    {
     "name": "stdout",
     "output_type": "stream",
     "text": [
      "Should I reject H0?  [ True False  True]\n",
      "The adjusted p-values are:  [1.38674872e-26 2.40611247e-01 1.70882662e-33]\n"
     ]
    }
   ],
   "source": [
    "p = [pv1,pv2,pv3]\n",
    "M = len(p)\n",
    "res, padj, alphSid, alphBonf = smsm.multipletests(pvals = p, alpha = 0.05, method = \"bonferroni\")\n",
    "print(\"Should I reject H0? \", res)\n",
    "print(\"The adjusted p-values are: \", padj)"
   ]
  },
  {
   "cell_type": "code",
   "execution_count": 43,
   "id": "bb171e95",
   "metadata": {},
   "outputs": [
    {
     "name": "stdout",
     "output_type": "stream",
     "text": [
      "Should I reject H0?  [ True False  True]\n",
      "The adjusted p-values are:  [4.93942733e-19 2.61526010e-01 1.74723544e-25]\n"
     ]
    }
   ],
   "source": [
    "#30 45\n",
    "pv4 = t_test(step2_df,30,90,40,90)\n",
    "pv5 = t_test(step2_df,40,90,45,90)\n",
    "pv6 = t_test(step2_df,30,90,45,90)\n",
    "p = [pv4,pv5,pv6]\n",
    "M = len(p)\n",
    "res, padj, alphSid, alphBonf = smsm.multipletests(pvals = p, alpha = 0.05, method = \"bonferroni\")\n",
    "print(\"Should I reject H0? \", res)\n",
    "print(\"The adjusted p-values are: \", padj)"
   ]
  },
  {
   "cell_type": "code",
   "execution_count": 44,
   "id": "4fb48314",
   "metadata": {},
   "outputs": [
    {
     "name": "stdout",
     "output_type": "stream",
     "text": [
      "Should I reject H0?  [ True  True  True]\n",
      "The adjusted p-values are:  [1.75191192e-23 8.47327297e-18 4.96676156e-22]\n"
     ]
    }
   ],
   "source": [
    "#match score\n",
    "pv7 = t_test(step2_df,30,100,30,90)\n",
    "pv8 = t_test(step2_df,40,100,40,90)\n",
    "pv9 = t_test(step2_df,45,100,45,90)\n",
    "p = [pv7,pv8,pv9]\n",
    "M = len(p)\n",
    "res, padj, alphSid, alphBonf = smsm.multipletests(pvals = p, alpha = 0.05, method = \"bonferroni\")\n",
    "print(\"Should I reject H0? \", res)\n",
    "print(\"The adjusted p-values are: \", padj)"
   ]
  },
  {
   "cell_type": "code",
   "execution_count": 45,
   "id": "2fe6e71c",
   "metadata": {},
   "outputs": [
    {
     "data": {
      "text/html": [
       "<div>\n",
       "<style scoped>\n",
       "    .dataframe tbody tr th:only-of-type {\n",
       "        vertical-align: middle;\n",
       "    }\n",
       "\n",
       "    .dataframe tbody tr th {\n",
       "        vertical-align: top;\n",
       "    }\n",
       "\n",
       "    .dataframe thead th {\n",
       "        text-align: right;\n",
       "    }\n",
       "</style>\n",
       "<table border=\"1\" class=\"dataframe\">\n",
       "  <thead>\n",
       "    <tr style=\"text-align: right;\">\n",
       "      <th></th>\n",
       "      <th>Prev_Length</th>\n",
       "      <th>Match_Score</th>\n",
       "      <th>Tile_size</th>\n",
       "      <th>Browse_time</th>\n",
       "    </tr>\n",
       "  </thead>\n",
       "  <tbody>\n",
       "    <tr>\n",
       "      <th>0</th>\n",
       "      <td>30</td>\n",
       "      <td>90</td>\n",
       "      <td>0.15</td>\n",
       "      <td>15.308083</td>\n",
       "    </tr>\n",
       "    <tr>\n",
       "      <th>1</th>\n",
       "      <td>30</td>\n",
       "      <td>100</td>\n",
       "      <td>0.15</td>\n",
       "      <td>16.910158</td>\n",
       "    </tr>\n",
       "    <tr>\n",
       "      <th>2</th>\n",
       "      <td>40</td>\n",
       "      <td>90</td>\n",
       "      <td>0.15</td>\n",
       "      <td>13.820807</td>\n",
       "    </tr>\n",
       "    <tr>\n",
       "      <th>3</th>\n",
       "      <td>40</td>\n",
       "      <td>100</td>\n",
       "      <td>0.15</td>\n",
       "      <td>15.211392</td>\n",
       "    </tr>\n",
       "    <tr>\n",
       "      <th>4</th>\n",
       "      <td>45</td>\n",
       "      <td>90</td>\n",
       "      <td>0.15</td>\n",
       "      <td>13.632778</td>\n",
       "    </tr>\n",
       "    <tr>\n",
       "      <th>5</th>\n",
       "      <td>45</td>\n",
       "      <td>100</td>\n",
       "      <td>0.15</td>\n",
       "      <td>15.021115</td>\n",
       "    </tr>\n",
       "  </tbody>\n",
       "</table>\n",
       "</div>"
      ],
      "text/plain": [
       "   Prev_Length  Match_Score  Tile_size  Browse_time\n",
       "0           30           90       0.15    15.308083\n",
       "1           30          100       0.15    16.910158\n",
       "2           40           90       0.15    13.820807\n",
       "3           40          100       0.15    15.211392\n",
       "4           45           90       0.15    13.632778\n",
       "5           45          100       0.15    15.021115"
      ]
     },
     "execution_count": 45,
     "metadata": {},
     "output_type": "execute_result"
    }
   ],
   "source": [
    "step2_df.groupby(by=['Prev_Length', 'Match_Score']).mean().reset_index()"
   ]
  },
  {
   "cell_type": "markdown",
   "id": "60b28638",
   "metadata": {},
   "source": [
    "<li> Even though there are interactive effect between match score and preview length, we see when match score are equal, the preview_length =45 group is statistic significant better than preview_length =30.\n",
    "<li> When preview_length are equal, we see match score = 90 is statistic significant better than match score = 100\n",
    "<li> So we form the hypothesis that the combination of <b>Increase preview length and decrease match score</b> could lead us to a near optimum point. "
   ]
  },
  {
   "cell_type": "markdown",
   "id": "bf589a91",
   "metadata": {},
   "source": [
    "### Step2.2"
   ]
  },
  {
   "cell_type": "markdown",
   "id": "cc985635",
   "metadata": {},
   "source": [
    "step3\n",
    "Points checked: (preview_len, match score): \n",
    "(50,85)(50,80)\n"
   ]
  },
  {
   "cell_type": "code",
   "execution_count": 46,
   "id": "379e1745",
   "metadata": {},
   "outputs": [],
   "source": [
    "step3_df = pd.read_csv('RESULTS_azxcvbnm_step3_2022-01-17.csv')\n",
    "step4_df = pd.read_csv('RESULTS_azxcvbnm_step4_2022-01-17.csv')\n",
    "step3_df.rename(columns = {'Tile.Size': 'Tile_size', 'Prev.Type':'Prev_type', \n",
    "                             'Browse.Time': 'Browse_time','Prev.Length':'Prev_Length'\n",
    "                            ,'Match.Score':'Match_Score'}, inplace = True)\n",
    "step4_df.rename(columns = {'Tile.Size': 'Tile_size', 'Prev.Type':'Prev_type', \n",
    "                             'Browse.Time': 'Browse_time','Prev.Length':'Prev_Length'\n",
    "                            ,'Match.Score':'Match_Score'}, inplace = True)\n",
    "frames = [step2_df,step3_df,step4_df]#We concat them together and \n",
    "step3_df = pd.concat(frames)"
   ]
  },
  {
   "cell_type": "code",
   "execution_count": 47,
   "id": "93805234",
   "metadata": {},
   "outputs": [
    {
     "name": "stdout",
     "output_type": "stream",
     "text": [
      "Should I reject H0?  [ True  True  True  True False]\n",
      "The adjusted p-values are:  [1.81451766e-07 1.81451766e-07 2.00792647e-05 1.21280776e-12\n",
      " 1.00000000e+00]\n"
     ]
    }
   ],
   "source": [
    "pv_10 = t_test(step3_df,50,85,55,75)\n",
    "pv_11 = t_test(step3_df,50,85,55,75)\n",
    "pv_12 = t_test(step3_df,45,90,55,70)\n",
    "pv_13 = t_test(step3_df,55,70,55,75)#this tells us when match score goes down to 70\n",
    "pv_14 = t_test(step3_df,50,80,55,75)\n",
    "p = [pv_10,pv_11,pv_12,pv_13,pv_14]\n",
    "M = len(p)\n",
    "res, padj, alphSid, alphBonf = smsm.multipletests(pvals = p, alpha = 0.05, method = \"bonferroni\")\n",
    "print(\"Should I reject H0? \", res)\n",
    "print(\"The adjusted p-values are: \", padj)"
   ]
  },
  {
   "cell_type": "code",
   "execution_count": 48,
   "id": "6e3b66df",
   "metadata": {},
   "outputs": [
    {
     "data": {
      "text/html": [
       "<div>\n",
       "<style scoped>\n",
       "    .dataframe tbody tr th:only-of-type {\n",
       "        vertical-align: middle;\n",
       "    }\n",
       "\n",
       "    .dataframe tbody tr th {\n",
       "        vertical-align: top;\n",
       "    }\n",
       "\n",
       "    .dataframe thead th {\n",
       "        text-align: right;\n",
       "    }\n",
       "</style>\n",
       "<table border=\"1\" class=\"dataframe\">\n",
       "  <thead>\n",
       "    <tr style=\"text-align: right;\">\n",
       "      <th></th>\n",
       "      <th>Prev_Length</th>\n",
       "      <th>Match_Score</th>\n",
       "      <th>Tile_size</th>\n",
       "      <th>Browse_time</th>\n",
       "    </tr>\n",
       "  </thead>\n",
       "  <tbody>\n",
       "    <tr>\n",
       "      <th>0</th>\n",
       "      <td>30</td>\n",
       "      <td>90</td>\n",
       "      <td>0.15</td>\n",
       "      <td>15.308083</td>\n",
       "    </tr>\n",
       "    <tr>\n",
       "      <th>1</th>\n",
       "      <td>30</td>\n",
       "      <td>100</td>\n",
       "      <td>0.15</td>\n",
       "      <td>16.910158</td>\n",
       "    </tr>\n",
       "    <tr>\n",
       "      <th>2</th>\n",
       "      <td>40</td>\n",
       "      <td>90</td>\n",
       "      <td>0.15</td>\n",
       "      <td>13.820807</td>\n",
       "    </tr>\n",
       "    <tr>\n",
       "      <th>3</th>\n",
       "      <td>40</td>\n",
       "      <td>100</td>\n",
       "      <td>0.15</td>\n",
       "      <td>15.211392</td>\n",
       "    </tr>\n",
       "    <tr>\n",
       "      <th>4</th>\n",
       "      <td>45</td>\n",
       "      <td>90</td>\n",
       "      <td>0.15</td>\n",
       "      <td>13.632778</td>\n",
       "    </tr>\n",
       "    <tr>\n",
       "      <th>5</th>\n",
       "      <td>45</td>\n",
       "      <td>100</td>\n",
       "      <td>0.15</td>\n",
       "      <td>15.021115</td>\n",
       "    </tr>\n",
       "    <tr>\n",
       "      <th>6</th>\n",
       "      <td>50</td>\n",
       "      <td>80</td>\n",
       "      <td>0.15</td>\n",
       "      <td>11.987524</td>\n",
       "    </tr>\n",
       "    <tr>\n",
       "      <th>7</th>\n",
       "      <td>50</td>\n",
       "      <td>85</td>\n",
       "      <td>0.15</td>\n",
       "      <td>12.762031</td>\n",
       "    </tr>\n",
       "    <tr>\n",
       "      <th>8</th>\n",
       "      <td>55</td>\n",
       "      <td>70</td>\n",
       "      <td>0.15</td>\n",
       "      <td>13.024942</td>\n",
       "    </tr>\n",
       "    <tr>\n",
       "      <th>9</th>\n",
       "      <td>55</td>\n",
       "      <td>75</td>\n",
       "      <td>0.15</td>\n",
       "      <td>11.946941</td>\n",
       "    </tr>\n",
       "  </tbody>\n",
       "</table>\n",
       "</div>"
      ],
      "text/plain": [
       "   Prev_Length  Match_Score  Tile_size  Browse_time\n",
       "0           30           90       0.15    15.308083\n",
       "1           30          100       0.15    16.910158\n",
       "2           40           90       0.15    13.820807\n",
       "3           40          100       0.15    15.211392\n",
       "4           45           90       0.15    13.632778\n",
       "5           45          100       0.15    15.021115\n",
       "6           50           80       0.15    11.987524\n",
       "7           50           85       0.15    12.762031\n",
       "8           55           70       0.15    13.024942\n",
       "9           55           75       0.15    11.946941"
      ]
     },
     "execution_count": 48,
     "metadata": {},
     "output_type": "execute_result"
    }
   ],
   "source": [
    "step3_df.groupby(by=['Prev_Length', 'Match_Score']).mean().reset_index()"
   ]
  },
  {
   "cell_type": "markdown",
   "id": "3429e6eb",
   "metadata": {},
   "source": [
    "step4\n",
    "Points checked: (preview_len, match score): \n",
    "(55,75)(55,70)"
   ]
  },
  {
   "cell_type": "markdown",
   "id": "d0c2791f",
   "metadata": {},
   "source": [
    "<li> we find that when the match preview length=55 and match score = 75 and preview length = 50 and match score =80 are statistc significant better than other methods.\n",
    "<li> we suspect that we've reach a point where the <b>best match score is between 70-80"
   ]
  },
  {
   "cell_type": "markdown",
   "id": "b4b7cfe3",
   "metadata": {},
   "source": [
    "### step2.3"
   ]
  },
  {
   "cell_type": "code",
   "execution_count": 49,
   "id": "cd9ea0f6",
   "metadata": {},
   "outputs": [],
   "source": [
    "step5_df = pd.read_csv('RESULTS_azxcvbnm_step5_2022-01-17.csv')\n",
    "step6_df = pd.read_csv('RESULTS_azxcvbnm_step6_2022-01-17.csv')\n",
    "step5_df.rename(columns = {'Tile.Size': 'Tile_size', 'Prev.Type':'Prev_type', \n",
    "                             'Browse.Time': 'Browse_time','Prev.Length':'Prev_Length'\n",
    "                            ,'Match.Score':'Match_Score'}, inplace = True)\n",
    "step6_df.rename(columns = {'Tile.Size': 'Tile_size', 'Prev.Type':'Prev_type', \n",
    "                             'Browse.Time': 'Browse_time','Prev.Length':'Prev_Length'\n",
    "                            ,'Match.Score':'Match_Score'}, inplace = True)\n",
    "frames = [step3_df,step5_df,step6_df]#We concat them together and \n",
    "step4_df = pd.concat(frames)"
   ]
  },
  {
   "cell_type": "code",
   "execution_count": 50,
   "id": "a1b10661",
   "metadata": {},
   "outputs": [
    {
     "name": "stdout",
     "output_type": "stream",
     "text": [
      "Should I reject H0?  [ True  True  True  True False]\n",
      "The adjusted p-values are:  [1.90425778e-21 1.13310454e-21 3.42715748e-16 3.54604234e-11\n",
      " 7.90877630e-01]\n"
     ]
    }
   ],
   "source": [
    "pv_15 = t_test(step4_df,55,75,80,73)\n",
    "pv_16 = t_test(step4_df,50,80,80,73)\n",
    "\n",
    "pv_17 = t_test(step4_df,60,77,80,73)\n",
    "pv_18 = t_test(step4_df,60,73,80,73)\n",
    "pv_19 = t_test(step4_df,70,73,80,73)\n",
    "\n",
    "p = [pv_15,pv_16,pv_17,pv_18,pv_19]\n",
    "M = len(p)\n",
    "res, padj, alphSid, alphBonf = smsm.multipletests(pvals = p, alpha = 0.05, method = \"bonferroni\")\n",
    "print(\"Should I reject H0? \", res)\n",
    "print(\"The adjusted p-values are: \", padj)"
   ]
  },
  {
   "cell_type": "markdown",
   "id": "8c360990",
   "metadata": {},
   "source": [
    "<li>Still, as we increase the preview_time, we can see a statistic significant better result.\n",
    "<li>But, we seems reach near minimum in preview_time between 70-80\n",
    "    "
   ]
  },
  {
   "cell_type": "code",
   "execution_count": 51,
   "id": "0b7235a1",
   "metadata": {
    "scrolled": true
   },
   "outputs": [
    {
     "data": {
      "text/html": [
       "<div>\n",
       "<style scoped>\n",
       "    .dataframe tbody tr th:only-of-type {\n",
       "        vertical-align: middle;\n",
       "    }\n",
       "\n",
       "    .dataframe tbody tr th {\n",
       "        vertical-align: top;\n",
       "    }\n",
       "\n",
       "    .dataframe thead th {\n",
       "        text-align: right;\n",
       "    }\n",
       "</style>\n",
       "<table border=\"1\" class=\"dataframe\">\n",
       "  <thead>\n",
       "    <tr style=\"text-align: right;\">\n",
       "      <th></th>\n",
       "      <th>Prev_Length</th>\n",
       "      <th>Match_Score</th>\n",
       "      <th>Tile_size</th>\n",
       "      <th>Browse_time</th>\n",
       "    </tr>\n",
       "  </thead>\n",
       "  <tbody>\n",
       "    <tr>\n",
       "      <th>0</th>\n",
       "      <td>30</td>\n",
       "      <td>90</td>\n",
       "      <td>0.15</td>\n",
       "      <td>15.308083</td>\n",
       "    </tr>\n",
       "    <tr>\n",
       "      <th>1</th>\n",
       "      <td>30</td>\n",
       "      <td>100</td>\n",
       "      <td>0.15</td>\n",
       "      <td>16.910158</td>\n",
       "    </tr>\n",
       "    <tr>\n",
       "      <th>2</th>\n",
       "      <td>40</td>\n",
       "      <td>90</td>\n",
       "      <td>0.15</td>\n",
       "      <td>13.820807</td>\n",
       "    </tr>\n",
       "    <tr>\n",
       "      <th>3</th>\n",
       "      <td>40</td>\n",
       "      <td>100</td>\n",
       "      <td>0.15</td>\n",
       "      <td>15.211392</td>\n",
       "    </tr>\n",
       "    <tr>\n",
       "      <th>4</th>\n",
       "      <td>45</td>\n",
       "      <td>90</td>\n",
       "      <td>0.15</td>\n",
       "      <td>13.632778</td>\n",
       "    </tr>\n",
       "    <tr>\n",
       "      <th>5</th>\n",
       "      <td>45</td>\n",
       "      <td>100</td>\n",
       "      <td>0.15</td>\n",
       "      <td>15.021115</td>\n",
       "    </tr>\n",
       "    <tr>\n",
       "      <th>6</th>\n",
       "      <td>50</td>\n",
       "      <td>80</td>\n",
       "      <td>0.15</td>\n",
       "      <td>11.987524</td>\n",
       "    </tr>\n",
       "    <tr>\n",
       "      <th>7</th>\n",
       "      <td>50</td>\n",
       "      <td>85</td>\n",
       "      <td>0.15</td>\n",
       "      <td>12.762031</td>\n",
       "    </tr>\n",
       "    <tr>\n",
       "      <th>8</th>\n",
       "      <td>55</td>\n",
       "      <td>70</td>\n",
       "      <td>0.15</td>\n",
       "      <td>13.024942</td>\n",
       "    </tr>\n",
       "    <tr>\n",
       "      <th>9</th>\n",
       "      <td>55</td>\n",
       "      <td>75</td>\n",
       "      <td>0.15</td>\n",
       "      <td>11.946941</td>\n",
       "    </tr>\n",
       "    <tr>\n",
       "      <th>10</th>\n",
       "      <td>60</td>\n",
       "      <td>73</td>\n",
       "      <td>0.15</td>\n",
       "      <td>11.423047</td>\n",
       "    </tr>\n",
       "    <tr>\n",
       "      <th>11</th>\n",
       "      <td>60</td>\n",
       "      <td>75</td>\n",
       "      <td>0.15</td>\n",
       "      <td>11.672347</td>\n",
       "    </tr>\n",
       "    <tr>\n",
       "      <th>12</th>\n",
       "      <td>60</td>\n",
       "      <td>77</td>\n",
       "      <td>0.15</td>\n",
       "      <td>11.728875</td>\n",
       "    </tr>\n",
       "    <tr>\n",
       "      <th>13</th>\n",
       "      <td>70</td>\n",
       "      <td>73</td>\n",
       "      <td>0.15</td>\n",
       "      <td>10.499297</td>\n",
       "    </tr>\n",
       "    <tr>\n",
       "      <th>14</th>\n",
       "      <td>80</td>\n",
       "      <td>73</td>\n",
       "      <td>0.15</td>\n",
       "      <td>10.349738</td>\n",
       "    </tr>\n",
       "  </tbody>\n",
       "</table>\n",
       "</div>"
      ],
      "text/plain": [
       "    Prev_Length  Match_Score  Tile_size  Browse_time\n",
       "0            30           90       0.15    15.308083\n",
       "1            30          100       0.15    16.910158\n",
       "2            40           90       0.15    13.820807\n",
       "3            40          100       0.15    15.211392\n",
       "4            45           90       0.15    13.632778\n",
       "5            45          100       0.15    15.021115\n",
       "6            50           80       0.15    11.987524\n",
       "7            50           85       0.15    12.762031\n",
       "8            55           70       0.15    13.024942\n",
       "9            55           75       0.15    11.946941\n",
       "10           60           73       0.15    11.423047\n",
       "11           60           75       0.15    11.672347\n",
       "12           60           77       0.15    11.728875\n",
       "13           70           73       0.15    10.499297\n",
       "14           80           73       0.15    10.349738"
      ]
     },
     "execution_count": 51,
     "metadata": {},
     "output_type": "execute_result"
    }
   ],
   "source": [
    "step4_df.groupby(by=['Prev_Length', 'Match_Score']).mean().reset_index()"
   ]
  },
  {
   "cell_type": "code",
   "execution_count": 52,
   "id": "72173361",
   "metadata": {},
   "outputs": [],
   "source": [
    "# t_test(step4_df,60,73,60,75)"
   ]
  },
  {
   "cell_type": "markdown",
   "id": "df0ceb53",
   "metadata": {},
   "source": [
    "### step2.4"
   ]
  },
  {
   "cell_type": "code",
   "execution_count": 54,
   "id": "51d3596c",
   "metadata": {},
   "outputs": [
    {
     "data": {
      "text/html": [
       "<div>\n",
       "<style scoped>\n",
       "    .dataframe tbody tr th:only-of-type {\n",
       "        vertical-align: middle;\n",
       "    }\n",
       "\n",
       "    .dataframe tbody tr th {\n",
       "        vertical-align: top;\n",
       "    }\n",
       "\n",
       "    .dataframe thead th {\n",
       "        text-align: right;\n",
       "    }\n",
       "</style>\n",
       "<table border=\"1\" class=\"dataframe\">\n",
       "  <thead>\n",
       "    <tr style=\"text-align: right;\">\n",
       "      <th></th>\n",
       "      <th>Prev_Length</th>\n",
       "      <th>Match_Score</th>\n",
       "      <th>Tile_size</th>\n",
       "      <th>Browse_time</th>\n",
       "    </tr>\n",
       "  </thead>\n",
       "  <tbody>\n",
       "    <tr>\n",
       "      <th>0</th>\n",
       "      <td>30</td>\n",
       "      <td>90</td>\n",
       "      <td>0.15</td>\n",
       "      <td>15.308083</td>\n",
       "    </tr>\n",
       "    <tr>\n",
       "      <th>1</th>\n",
       "      <td>30</td>\n",
       "      <td>100</td>\n",
       "      <td>0.15</td>\n",
       "      <td>16.910158</td>\n",
       "    </tr>\n",
       "    <tr>\n",
       "      <th>2</th>\n",
       "      <td>40</td>\n",
       "      <td>90</td>\n",
       "      <td>0.15</td>\n",
       "      <td>13.820807</td>\n",
       "    </tr>\n",
       "    <tr>\n",
       "      <th>3</th>\n",
       "      <td>40</td>\n",
       "      <td>100</td>\n",
       "      <td>0.15</td>\n",
       "      <td>15.211392</td>\n",
       "    </tr>\n",
       "    <tr>\n",
       "      <th>4</th>\n",
       "      <td>45</td>\n",
       "      <td>90</td>\n",
       "      <td>0.15</td>\n",
       "      <td>13.632778</td>\n",
       "    </tr>\n",
       "    <tr>\n",
       "      <th>5</th>\n",
       "      <td>45</td>\n",
       "      <td>100</td>\n",
       "      <td>0.15</td>\n",
       "      <td>15.021115</td>\n",
       "    </tr>\n",
       "    <tr>\n",
       "      <th>6</th>\n",
       "      <td>50</td>\n",
       "      <td>80</td>\n",
       "      <td>0.15</td>\n",
       "      <td>11.987524</td>\n",
       "    </tr>\n",
       "    <tr>\n",
       "      <th>7</th>\n",
       "      <td>50</td>\n",
       "      <td>85</td>\n",
       "      <td>0.15</td>\n",
       "      <td>12.762031</td>\n",
       "    </tr>\n",
       "    <tr>\n",
       "      <th>8</th>\n",
       "      <td>55</td>\n",
       "      <td>70</td>\n",
       "      <td>0.15</td>\n",
       "      <td>13.024942</td>\n",
       "    </tr>\n",
       "    <tr>\n",
       "      <th>9</th>\n",
       "      <td>55</td>\n",
       "      <td>75</td>\n",
       "      <td>0.15</td>\n",
       "      <td>11.946941</td>\n",
       "    </tr>\n",
       "    <tr>\n",
       "      <th>10</th>\n",
       "      <td>60</td>\n",
       "      <td>73</td>\n",
       "      <td>0.15</td>\n",
       "      <td>11.423047</td>\n",
       "    </tr>\n",
       "    <tr>\n",
       "      <th>11</th>\n",
       "      <td>60</td>\n",
       "      <td>75</td>\n",
       "      <td>0.15</td>\n",
       "      <td>11.672347</td>\n",
       "    </tr>\n",
       "    <tr>\n",
       "      <th>12</th>\n",
       "      <td>60</td>\n",
       "      <td>77</td>\n",
       "      <td>0.15</td>\n",
       "      <td>11.728875</td>\n",
       "    </tr>\n",
       "    <tr>\n",
       "      <th>13</th>\n",
       "      <td>70</td>\n",
       "      <td>73</td>\n",
       "      <td>0.15</td>\n",
       "      <td>10.499297</td>\n",
       "    </tr>\n",
       "    <tr>\n",
       "      <th>14</th>\n",
       "      <td>80</td>\n",
       "      <td>73</td>\n",
       "      <td>0.15</td>\n",
       "      <td>10.349738</td>\n",
       "    </tr>\n",
       "    <tr>\n",
       "      <th>15</th>\n",
       "      <td>90</td>\n",
       "      <td>70</td>\n",
       "      <td>0.15</td>\n",
       "      <td>12.207922</td>\n",
       "    </tr>\n",
       "    <tr>\n",
       "      <th>16</th>\n",
       "      <td>90</td>\n",
       "      <td>80</td>\n",
       "      <td>0.15</td>\n",
       "      <td>13.429623</td>\n",
       "    </tr>\n",
       "    <tr>\n",
       "      <th>17</th>\n",
       "      <td>100</td>\n",
       "      <td>70</td>\n",
       "      <td>0.15</td>\n",
       "      <td>15.214258</td>\n",
       "    </tr>\n",
       "    <tr>\n",
       "      <th>18</th>\n",
       "      <td>100</td>\n",
       "      <td>80</td>\n",
       "      <td>0.15</td>\n",
       "      <td>16.187178</td>\n",
       "    </tr>\n",
       "  </tbody>\n",
       "</table>\n",
       "</div>"
      ],
      "text/plain": [
       "    Prev_Length  Match_Score  Tile_size  Browse_time\n",
       "0            30           90       0.15    15.308083\n",
       "1            30          100       0.15    16.910158\n",
       "2            40           90       0.15    13.820807\n",
       "3            40          100       0.15    15.211392\n",
       "4            45           90       0.15    13.632778\n",
       "5            45          100       0.15    15.021115\n",
       "6            50           80       0.15    11.987524\n",
       "7            50           85       0.15    12.762031\n",
       "8            55           70       0.15    13.024942\n",
       "9            55           75       0.15    11.946941\n",
       "10           60           73       0.15    11.423047\n",
       "11           60           75       0.15    11.672347\n",
       "12           60           77       0.15    11.728875\n",
       "13           70           73       0.15    10.499297\n",
       "14           80           73       0.15    10.349738\n",
       "15           90           70       0.15    12.207922\n",
       "16           90           80       0.15    13.429623\n",
       "17          100           70       0.15    15.214258\n",
       "18          100           80       0.15    16.187178"
      ]
     },
     "execution_count": 54,
     "metadata": {},
     "output_type": "execute_result"
    }
   ],
   "source": [
    "step7_df = pd.read_csv('RESULTS_azxcvbnm_step7_2022-01-19.csv')\n",
    "step7_df.rename(columns = {'Tile.Size': 'Tile_size', 'Prev.Type':'Prev_type', \n",
    "                             'Browse.Time': 'Browse_time','Prev.Length':'Prev_Length'\n",
    "                            ,'Match.Score':'Match_Score'}, inplace = True)\n",
    "frames = [step4_df,step7_df]#We concat them together and \n",
    "step5_df = pd.concat(frames)\n",
    "step5_df.groupby(by=['Prev_Length', 'Match_Score']).mean().reset_index()"
   ]
  },
  {
   "cell_type": "code",
   "execution_count": null,
   "id": "2eab5d01",
   "metadata": {},
   "outputs": [],
   "source": []
  },
  {
   "cell_type": "markdown",
   "id": "1a03815a",
   "metadata": {},
   "source": [
    "step5\n",
    "Points checked: (preview_len, match score): \n",
    "(60,75)(60,73)(60,77)"
   ]
  },
  {
   "cell_type": "markdown",
   "id": "cdfdbb29",
   "metadata": {},
   "source": [
    "step6\n",
    "Points checked: (preview_len, match score): \n",
    "(70,73)(80,73)"
   ]
  },
  {
   "cell_type": "code",
   "execution_count": 53,
   "id": "0a3107bf",
   "metadata": {},
   "outputs": [],
   "source": [
    "### we proposed the hypothesis that Increase preview length and decrease match score"
   ]
  },
  {
   "cell_type": "code",
   "execution_count": null,
   "id": "840057d9",
   "metadata": {},
   "outputs": [],
   "source": []
  },
  {
   "cell_type": "markdown",
   "id": "352f168c",
   "metadata": {},
   "source": [
    "### step2.5"
   ]
  },
  {
   "cell_type": "code",
   "execution_count": 56,
   "id": "f1192694",
   "metadata": {},
   "outputs": [
    {
     "data": {
      "text/html": [
       "<div>\n",
       "<style scoped>\n",
       "    .dataframe tbody tr th:only-of-type {\n",
       "        vertical-align: middle;\n",
       "    }\n",
       "\n",
       "    .dataframe tbody tr th {\n",
       "        vertical-align: top;\n",
       "    }\n",
       "\n",
       "    .dataframe thead th {\n",
       "        text-align: right;\n",
       "    }\n",
       "</style>\n",
       "<table border=\"1\" class=\"dataframe\">\n",
       "  <thead>\n",
       "    <tr style=\"text-align: right;\">\n",
       "      <th></th>\n",
       "      <th>Prev_Length</th>\n",
       "      <th>Match_Score</th>\n",
       "      <th>Tile_size</th>\n",
       "      <th>Browse_time</th>\n",
       "    </tr>\n",
       "  </thead>\n",
       "  <tbody>\n",
       "    <tr>\n",
       "      <th>0</th>\n",
       "      <td>30</td>\n",
       "      <td>90</td>\n",
       "      <td>0.15</td>\n",
       "      <td>15.308083</td>\n",
       "    </tr>\n",
       "    <tr>\n",
       "      <th>1</th>\n",
       "      <td>30</td>\n",
       "      <td>100</td>\n",
       "      <td>0.15</td>\n",
       "      <td>16.910158</td>\n",
       "    </tr>\n",
       "    <tr>\n",
       "      <th>2</th>\n",
       "      <td>40</td>\n",
       "      <td>90</td>\n",
       "      <td>0.15</td>\n",
       "      <td>13.820807</td>\n",
       "    </tr>\n",
       "    <tr>\n",
       "      <th>3</th>\n",
       "      <td>40</td>\n",
       "      <td>100</td>\n",
       "      <td>0.15</td>\n",
       "      <td>15.211392</td>\n",
       "    </tr>\n",
       "    <tr>\n",
       "      <th>4</th>\n",
       "      <td>45</td>\n",
       "      <td>90</td>\n",
       "      <td>0.15</td>\n",
       "      <td>13.632778</td>\n",
       "    </tr>\n",
       "    <tr>\n",
       "      <th>5</th>\n",
       "      <td>45</td>\n",
       "      <td>100</td>\n",
       "      <td>0.15</td>\n",
       "      <td>15.021115</td>\n",
       "    </tr>\n",
       "    <tr>\n",
       "      <th>6</th>\n",
       "      <td>50</td>\n",
       "      <td>80</td>\n",
       "      <td>0.15</td>\n",
       "      <td>11.987524</td>\n",
       "    </tr>\n",
       "    <tr>\n",
       "      <th>7</th>\n",
       "      <td>50</td>\n",
       "      <td>85</td>\n",
       "      <td>0.15</td>\n",
       "      <td>12.762031</td>\n",
       "    </tr>\n",
       "    <tr>\n",
       "      <th>8</th>\n",
       "      <td>55</td>\n",
       "      <td>70</td>\n",
       "      <td>0.15</td>\n",
       "      <td>13.024942</td>\n",
       "    </tr>\n",
       "    <tr>\n",
       "      <th>9</th>\n",
       "      <td>55</td>\n",
       "      <td>75</td>\n",
       "      <td>0.15</td>\n",
       "      <td>11.946941</td>\n",
       "    </tr>\n",
       "    <tr>\n",
       "      <th>10</th>\n",
       "      <td>60</td>\n",
       "      <td>73</td>\n",
       "      <td>0.15</td>\n",
       "      <td>11.423047</td>\n",
       "    </tr>\n",
       "    <tr>\n",
       "      <th>11</th>\n",
       "      <td>60</td>\n",
       "      <td>75</td>\n",
       "      <td>0.15</td>\n",
       "      <td>11.672347</td>\n",
       "    </tr>\n",
       "    <tr>\n",
       "      <th>12</th>\n",
       "      <td>60</td>\n",
       "      <td>77</td>\n",
       "      <td>0.15</td>\n",
       "      <td>11.728875</td>\n",
       "    </tr>\n",
       "    <tr>\n",
       "      <th>13</th>\n",
       "      <td>70</td>\n",
       "      <td>73</td>\n",
       "      <td>0.15</td>\n",
       "      <td>10.499297</td>\n",
       "    </tr>\n",
       "    <tr>\n",
       "      <th>14</th>\n",
       "      <td>75</td>\n",
       "      <td>70</td>\n",
       "      <td>0.15</td>\n",
       "      <td>10.313394</td>\n",
       "    </tr>\n",
       "    <tr>\n",
       "      <th>15</th>\n",
       "      <td>75</td>\n",
       "      <td>75</td>\n",
       "      <td>0.15</td>\n",
       "      <td>10.115486</td>\n",
       "    </tr>\n",
       "    <tr>\n",
       "      <th>16</th>\n",
       "      <td>75</td>\n",
       "      <td>80</td>\n",
       "      <td>0.15</td>\n",
       "      <td>10.497822</td>\n",
       "    </tr>\n",
       "    <tr>\n",
       "      <th>17</th>\n",
       "      <td>80</td>\n",
       "      <td>73</td>\n",
       "      <td>0.15</td>\n",
       "      <td>10.349738</td>\n",
       "    </tr>\n",
       "    <tr>\n",
       "      <th>18</th>\n",
       "      <td>90</td>\n",
       "      <td>70</td>\n",
       "      <td>0.15</td>\n",
       "      <td>12.207922</td>\n",
       "    </tr>\n",
       "    <tr>\n",
       "      <th>19</th>\n",
       "      <td>90</td>\n",
       "      <td>80</td>\n",
       "      <td>0.15</td>\n",
       "      <td>13.429623</td>\n",
       "    </tr>\n",
       "    <tr>\n",
       "      <th>20</th>\n",
       "      <td>100</td>\n",
       "      <td>70</td>\n",
       "      <td>0.15</td>\n",
       "      <td>15.214258</td>\n",
       "    </tr>\n",
       "    <tr>\n",
       "      <th>21</th>\n",
       "      <td>100</td>\n",
       "      <td>80</td>\n",
       "      <td>0.15</td>\n",
       "      <td>16.187178</td>\n",
       "    </tr>\n",
       "  </tbody>\n",
       "</table>\n",
       "</div>"
      ],
      "text/plain": [
       "    Prev_Length  Match_Score  Tile_size  Browse_time\n",
       "0            30           90       0.15    15.308083\n",
       "1            30          100       0.15    16.910158\n",
       "2            40           90       0.15    13.820807\n",
       "3            40          100       0.15    15.211392\n",
       "4            45           90       0.15    13.632778\n",
       "5            45          100       0.15    15.021115\n",
       "6            50           80       0.15    11.987524\n",
       "7            50           85       0.15    12.762031\n",
       "8            55           70       0.15    13.024942\n",
       "9            55           75       0.15    11.946941\n",
       "10           60           73       0.15    11.423047\n",
       "11           60           75       0.15    11.672347\n",
       "12           60           77       0.15    11.728875\n",
       "13           70           73       0.15    10.499297\n",
       "14           75           70       0.15    10.313394\n",
       "15           75           75       0.15    10.115486\n",
       "16           75           80       0.15    10.497822\n",
       "17           80           73       0.15    10.349738\n",
       "18           90           70       0.15    12.207922\n",
       "19           90           80       0.15    13.429623\n",
       "20          100           70       0.15    15.214258\n",
       "21          100           80       0.15    16.187178"
      ]
     },
     "execution_count": 56,
     "metadata": {},
     "output_type": "execute_result"
    }
   ],
   "source": [
    "step8_df = pd.read_csv('RESULTS_azxcvbnm_step8_2022-01-19.csv')\n",
    "step8_df.rename(columns = {'Tile.Size': 'Tile_size', 'Prev.Type':'Prev_type', \n",
    "                             'Browse.Time': 'Browse_time','Prev.Length':'Prev_Length'\n",
    "                            ,'Match.Score':'Match_Score'}, inplace = True)\n",
    "frames = [step5_df,step8_df]#We concat them together and \n",
    "step5_df = pd.concat(frames)\n",
    "step5_df.groupby(by=['Prev_Length', 'Match_Score']).mean().reset_index()"
   ]
  },
  {
   "cell_type": "code",
   "execution_count": 61,
   "id": "a61e6d38",
   "metadata": {},
   "outputs": [],
   "source": [
    "# step8: (75,75)(75,80)(75,70)"
   ]
  },
  {
   "cell_type": "code",
   "execution_count": null,
   "id": "734b913d",
   "metadata": {},
   "outputs": [],
   "source": [
    "#step9 (80,75)(80,78)(80,70)(70,78)(70,75)(70,70)"
   ]
  },
  {
   "cell_type": "code",
   "execution_count": 73,
   "id": "b96ff768",
   "metadata": {},
   "outputs": [
    {
     "name": "stdout",
     "output_type": "stream",
     "text": [
      "Should I reject H0?  [ True False]\n",
      "The adjusted p-values are:  [0.00663978 0.10970592]\n"
     ]
    }
   ],
   "source": [
    "pv_20 = t_test(step5_df,70,73,75,75)\n",
    "pv_21 = t_test(step5_df,80,73,75,75)\n",
    "# pv_16 = t_test(step4_df,50,80,80,73)\n",
    "\n",
    "# pv_17 = t_test(step4_df,60,77,80,73)\n",
    "# pv_18 = t_test(step4_df,60,73,80,73)\n",
    "# pv_19 = t_test(step4_df,70,73,80,73)\n",
    "\n",
    "p = [pv_20,pv_21]\n",
    "M = len(p)\n",
    "res, padj, alphSid, alphBonf = smsm.multipletests(pvals = p, alpha = 0.05, method = \"bonferroni\")\n",
    "print(\"Should I reject H0? \", res)\n",
    "print(\"The adjusted p-values are: \", padj)"
   ]
  },
  {
   "cell_type": "markdown",
   "id": "6ef68699",
   "metadata": {},
   "source": [
    "### step2.6\n"
   ]
  },
  {
   "cell_type": "code",
   "execution_count": 63,
   "id": "afb8c2a0",
   "metadata": {
    "scrolled": true
   },
   "outputs": [
    {
     "data": {
      "text/html": [
       "<div>\n",
       "<style scoped>\n",
       "    .dataframe tbody tr th:only-of-type {\n",
       "        vertical-align: middle;\n",
       "    }\n",
       "\n",
       "    .dataframe tbody tr th {\n",
       "        vertical-align: top;\n",
       "    }\n",
       "\n",
       "    .dataframe thead th {\n",
       "        text-align: right;\n",
       "    }\n",
       "</style>\n",
       "<table border=\"1\" class=\"dataframe\">\n",
       "  <thead>\n",
       "    <tr style=\"text-align: right;\">\n",
       "      <th></th>\n",
       "      <th>Prev_Length</th>\n",
       "      <th>Match_Score</th>\n",
       "      <th>Tile_size</th>\n",
       "      <th>Browse_time</th>\n",
       "    </tr>\n",
       "  </thead>\n",
       "  <tbody>\n",
       "    <tr>\n",
       "      <th>0</th>\n",
       "      <td>30</td>\n",
       "      <td>90</td>\n",
       "      <td>0.15</td>\n",
       "      <td>15.308083</td>\n",
       "    </tr>\n",
       "    <tr>\n",
       "      <th>1</th>\n",
       "      <td>30</td>\n",
       "      <td>100</td>\n",
       "      <td>0.15</td>\n",
       "      <td>16.910158</td>\n",
       "    </tr>\n",
       "    <tr>\n",
       "      <th>2</th>\n",
       "      <td>40</td>\n",
       "      <td>90</td>\n",
       "      <td>0.15</td>\n",
       "      <td>13.820807</td>\n",
       "    </tr>\n",
       "    <tr>\n",
       "      <th>3</th>\n",
       "      <td>40</td>\n",
       "      <td>100</td>\n",
       "      <td>0.15</td>\n",
       "      <td>15.211392</td>\n",
       "    </tr>\n",
       "    <tr>\n",
       "      <th>4</th>\n",
       "      <td>45</td>\n",
       "      <td>90</td>\n",
       "      <td>0.15</td>\n",
       "      <td>13.632778</td>\n",
       "    </tr>\n",
       "    <tr>\n",
       "      <th>5</th>\n",
       "      <td>45</td>\n",
       "      <td>100</td>\n",
       "      <td>0.15</td>\n",
       "      <td>15.021115</td>\n",
       "    </tr>\n",
       "    <tr>\n",
       "      <th>6</th>\n",
       "      <td>50</td>\n",
       "      <td>80</td>\n",
       "      <td>0.15</td>\n",
       "      <td>11.987524</td>\n",
       "    </tr>\n",
       "    <tr>\n",
       "      <th>7</th>\n",
       "      <td>50</td>\n",
       "      <td>85</td>\n",
       "      <td>0.15</td>\n",
       "      <td>12.762031</td>\n",
       "    </tr>\n",
       "    <tr>\n",
       "      <th>8</th>\n",
       "      <td>55</td>\n",
       "      <td>70</td>\n",
       "      <td>0.15</td>\n",
       "      <td>13.024942</td>\n",
       "    </tr>\n",
       "    <tr>\n",
       "      <th>9</th>\n",
       "      <td>55</td>\n",
       "      <td>75</td>\n",
       "      <td>0.15</td>\n",
       "      <td>11.946941</td>\n",
       "    </tr>\n",
       "    <tr>\n",
       "      <th>10</th>\n",
       "      <td>60</td>\n",
       "      <td>73</td>\n",
       "      <td>0.15</td>\n",
       "      <td>11.423047</td>\n",
       "    </tr>\n",
       "    <tr>\n",
       "      <th>11</th>\n",
       "      <td>60</td>\n",
       "      <td>75</td>\n",
       "      <td>0.15</td>\n",
       "      <td>11.672347</td>\n",
       "    </tr>\n",
       "    <tr>\n",
       "      <th>12</th>\n",
       "      <td>60</td>\n",
       "      <td>77</td>\n",
       "      <td>0.15</td>\n",
       "      <td>11.728875</td>\n",
       "    </tr>\n",
       "    <tr>\n",
       "      <th>13</th>\n",
       "      <td>70</td>\n",
       "      <td>70</td>\n",
       "      <td>0.15</td>\n",
       "      <td>10.299405</td>\n",
       "    </tr>\n",
       "    <tr>\n",
       "      <th>14</th>\n",
       "      <td>70</td>\n",
       "      <td>73</td>\n",
       "      <td>0.15</td>\n",
       "      <td>10.499297</td>\n",
       "    </tr>\n",
       "    <tr>\n",
       "      <th>15</th>\n",
       "      <td>70</td>\n",
       "      <td>75</td>\n",
       "      <td>0.15</td>\n",
       "      <td>10.440536</td>\n",
       "    </tr>\n",
       "    <tr>\n",
       "      <th>16</th>\n",
       "      <td>70</td>\n",
       "      <td>78</td>\n",
       "      <td>0.15</td>\n",
       "      <td>10.423286</td>\n",
       "    </tr>\n",
       "    <tr>\n",
       "      <th>17</th>\n",
       "      <td>75</td>\n",
       "      <td>70</td>\n",
       "      <td>0.15</td>\n",
       "      <td>10.313394</td>\n",
       "    </tr>\n",
       "    <tr>\n",
       "      <th>18</th>\n",
       "      <td>75</td>\n",
       "      <td>75</td>\n",
       "      <td>0.15</td>\n",
       "      <td>10.115486</td>\n",
       "    </tr>\n",
       "    <tr>\n",
       "      <th>19</th>\n",
       "      <td>75</td>\n",
       "      <td>80</td>\n",
       "      <td>0.15</td>\n",
       "      <td>10.497822</td>\n",
       "    </tr>\n",
       "    <tr>\n",
       "      <th>20</th>\n",
       "      <td>80</td>\n",
       "      <td>70</td>\n",
       "      <td>0.15</td>\n",
       "      <td>10.389021</td>\n",
       "    </tr>\n",
       "    <tr>\n",
       "      <th>21</th>\n",
       "      <td>80</td>\n",
       "      <td>73</td>\n",
       "      <td>0.15</td>\n",
       "      <td>10.349738</td>\n",
       "    </tr>\n",
       "    <tr>\n",
       "      <th>22</th>\n",
       "      <td>80</td>\n",
       "      <td>75</td>\n",
       "      <td>0.15</td>\n",
       "      <td>10.345538</td>\n",
       "    </tr>\n",
       "    <tr>\n",
       "      <th>23</th>\n",
       "      <td>80</td>\n",
       "      <td>78</td>\n",
       "      <td>0.15</td>\n",
       "      <td>11.063448</td>\n",
       "    </tr>\n",
       "    <tr>\n",
       "      <th>24</th>\n",
       "      <td>90</td>\n",
       "      <td>70</td>\n",
       "      <td>0.15</td>\n",
       "      <td>12.207922</td>\n",
       "    </tr>\n",
       "    <tr>\n",
       "      <th>25</th>\n",
       "      <td>90</td>\n",
       "      <td>80</td>\n",
       "      <td>0.15</td>\n",
       "      <td>13.429623</td>\n",
       "    </tr>\n",
       "    <tr>\n",
       "      <th>26</th>\n",
       "      <td>100</td>\n",
       "      <td>70</td>\n",
       "      <td>0.15</td>\n",
       "      <td>15.214258</td>\n",
       "    </tr>\n",
       "    <tr>\n",
       "      <th>27</th>\n",
       "      <td>100</td>\n",
       "      <td>80</td>\n",
       "      <td>0.15</td>\n",
       "      <td>16.187178</td>\n",
       "    </tr>\n",
       "  </tbody>\n",
       "</table>\n",
       "</div>"
      ],
      "text/plain": [
       "    Prev_Length  Match_Score  Tile_size  Browse_time\n",
       "0            30           90       0.15    15.308083\n",
       "1            30          100       0.15    16.910158\n",
       "2            40           90       0.15    13.820807\n",
       "3            40          100       0.15    15.211392\n",
       "4            45           90       0.15    13.632778\n",
       "5            45          100       0.15    15.021115\n",
       "6            50           80       0.15    11.987524\n",
       "7            50           85       0.15    12.762031\n",
       "8            55           70       0.15    13.024942\n",
       "9            55           75       0.15    11.946941\n",
       "10           60           73       0.15    11.423047\n",
       "11           60           75       0.15    11.672347\n",
       "12           60           77       0.15    11.728875\n",
       "13           70           70       0.15    10.299405\n",
       "14           70           73       0.15    10.499297\n",
       "15           70           75       0.15    10.440536\n",
       "16           70           78       0.15    10.423286\n",
       "17           75           70       0.15    10.313394\n",
       "18           75           75       0.15    10.115486\n",
       "19           75           80       0.15    10.497822\n",
       "20           80           70       0.15    10.389021\n",
       "21           80           73       0.15    10.349738\n",
       "22           80           75       0.15    10.345538\n",
       "23           80           78       0.15    11.063448\n",
       "24           90           70       0.15    12.207922\n",
       "25           90           80       0.15    13.429623\n",
       "26          100           70       0.15    15.214258\n",
       "27          100           80       0.15    16.187178"
      ]
     },
     "execution_count": 63,
     "metadata": {},
     "output_type": "execute_result"
    }
   ],
   "source": [
    "step9_df = pd.read_csv('RESULTS_azxcvbnm_step9.csv')\n",
    "step9_df.rename(columns = {'Tile.Size': 'Tile_size', 'Prev.Type':'Prev_type', \n",
    "                             'Browse.Time': 'Browse_time','Prev.Length':'Prev_Length'\n",
    "                            ,'Match.Score':'Match_Score'}, inplace = True)\n",
    "frames = [step5_df,step9_df]#We concat them together and \n",
    "step6_df = pd.concat(frames)\n",
    "step6_df.groupby(by=['Prev_Length', 'Match_Score']).mean().reset_index()"
   ]
  },
  {
   "cell_type": "code",
   "execution_count": 70,
   "id": "cc7e7230",
   "metadata": {},
   "outputs": [
    {
     "name": "stdout",
     "output_type": "stream",
     "text": [
      "Should I reject H0?  [ True  True False]\n",
      "The adjusted p-values are:  [0.00524838 0.04894233 0.27695968]\n"
     ]
    }
   ],
   "source": [
    "pv_22 = t_test(step6_df,75,80,75,75)\n",
    "pv_23 = t_test(step6_df,70,78,75,75)\n",
    "pv_24 = t_test(step6_df,70,70,75,75)\n",
    "# pv_24 = t_test(step6_df,60,77,80,73)\n",
    "# pv_25 = t_test(step6_df,60,73,80,73)\n",
    "# pv_26 = t_test(step6_df,70,73,80,73)\n",
    "\n",
    "p = [pv_22,pv_23,pv_24]\n",
    "M = len(p)\n",
    "res, padj, alphSid, alphBonf = smsm.multipletests(pvals = p, alpha = 0.05, method = \"bonferroni\")\n",
    "print(\"Should I reject H0? \", res)\n",
    "print(\"The adjusted p-values are: \", padj)"
   ]
  },
  {
   "cell_type": "code",
   "execution_count": 112,
   "id": "5551b0c2",
   "metadata": {},
   "outputs": [
    {
     "data": {
      "text/html": [
       "<div>\n",
       "<style scoped>\n",
       "    .dataframe tbody tr th:only-of-type {\n",
       "        vertical-align: middle;\n",
       "    }\n",
       "\n",
       "    .dataframe tbody tr th {\n",
       "        vertical-align: top;\n",
       "    }\n",
       "\n",
       "    .dataframe thead th {\n",
       "        text-align: right;\n",
       "    }\n",
       "</style>\n",
       "<table border=\"1\" class=\"dataframe\">\n",
       "  <thead>\n",
       "    <tr style=\"text-align: right;\">\n",
       "      <th></th>\n",
       "      <th>Prev_Length</th>\n",
       "      <th>Match_Score</th>\n",
       "      <th>Tile_size</th>\n",
       "      <th>Browse_time</th>\n",
       "    </tr>\n",
       "  </thead>\n",
       "  <tbody>\n",
       "    <tr>\n",
       "      <th>0</th>\n",
       "      <td>75</td>\n",
       "      <td>75</td>\n",
       "      <td>0.15</td>\n",
       "      <td>9.988621</td>\n",
       "    </tr>\n",
       "    <tr>\n",
       "      <th>1</th>\n",
       "      <td>75</td>\n",
       "      <td>95</td>\n",
       "      <td>0.20</td>\n",
       "      <td>14.780150</td>\n",
       "    </tr>\n",
       "  </tbody>\n",
       "</table>\n",
       "</div>"
      ],
      "text/plain": [
       "   Prev_Length  Match_Score  Tile_size  Browse_time\n",
       "0           75           75       0.15     9.988621\n",
       "1           75           95       0.20    14.780150"
      ]
     },
     "execution_count": 112,
     "metadata": {},
     "output_type": "execute_result"
    }
   ],
   "source": [
    "stepD_df = pd.read_csv('RESULTS_azxcvbnm_best_default_2022-01-21.csv')\n",
    "stepD_df.rename(columns = {'Tile.Size': 'Tile_size', 'Prev.Type':'Prev_type', \n",
    "                             'Browse.Time': 'Browse_time','Prev.Length':'Prev_Length'\n",
    "                            ,'Match.Score':'Match_Score'}, inplace = True)\n",
    "stepD_df.groupby(by=['Prev_Length', 'Match_Score']).mean().reset_index()"
   ]
  },
  {
   "cell_type": "markdown",
   "id": "12e353b2",
   "metadata": {},
   "source": [
    "## Final choice and confidence interval"
   ]
  },
  {
   "cell_type": "code",
   "execution_count": 89,
   "id": "6ec4ab8c",
   "metadata": {},
   "outputs": [],
   "source": [
    "def distribution_plot(df, prev_length1,match_score1,prev_length2,match_score2):\n",
    "    cond1_df = df[(df.Prev_Length==prev_length1)&(df.Match_Score==match_score1)]\n",
    "    cond2_df = df[(df.Prev_Length==prev_length2)&(df.Match_Score==match_score2)]  \n",
    "    cond1 = cond1_df[\"Browse_time\"]\n",
    "    cond2 = cond2_df[\"Browse_time\"]\n",
    "    xmin = min(min(cond1), min(cond2))\n",
    "    xmax = max(max(cond1), max(cond2))\n",
    "    plt.figure()\n",
    "    plt.hist(cond1, color = \"white\", edgecolor = \"black\")\n",
    "    plt.xlim(xmin,xmax)\n",
    "    plt.xlabel(\"Minutes Engaged\")\n",
    "    plt.ylabel(\"Frequency\")\n",
    "    plt.title(\"Condition:\"f'{prev_length1,match_score1}')\n",
    "    plt.vlines(x = np.mean(cond1), ymin = 0, ymax = 120, color = \"red\", linewidth = 2)\n",
    "    plt.figure()\n",
    "    plt.hist(cond2, color = \"white\", edgecolor = \"black\")\n",
    "    plt.xlim(xmin,xmax)\n",
    "    plt.xlabel(\"Browsing Time(s)\")\n",
    "    plt.ylabel(\"Frequency\")\n",
    "    plt.title(\"Condition:\"f'{prev_length2,match_score2}')\n",
    "    plt.vlines(x = np.mean(cond2), ymin = 0, ymax = 120, color = \"red\", linewidth = 2)"
   ]
  },
  {
   "cell_type": "code",
   "execution_count": 90,
   "id": "24b8d4cb",
   "metadata": {
    "scrolled": false
   },
   "outputs": [
    {
     "data": {
      "image/png": "[encoded data removed]",
      "text/plain": [
       "<Figure size 432x288 with 1 Axes>"
      ]
     },
     "metadata": {
      "needs_background": "light"
     },
     "output_type": "display_data"
    },
    {
     "data": {
      "image/png": "[encoded data removed]",
      "text/plain": [
       "<Figure size 432x288 with 1 Axes>"
      ]
     },
     "metadata": {
      "needs_background": "light"
     },
     "output_type": "display_data"
    }
   ],
   "source": [
    "distribution_plot(step6_df,75,80,75,75)"
   ]
  },
  {
   "cell_type": "code",
   "execution_count": 91,
   "id": "7066e2c6",
   "metadata": {},
   "outputs": [
    {
     "data": {
      "image/png": "[encoded data removed]",
      "text/plain": [
       "<Figure size 432x288 with 1 Axes>"
      ]
     },
     "metadata": {
      "needs_background": "light"
     },
     "output_type": "display_data"
    },
    {
     "data": {
      "image/png": "[encoded data removed]",
      "text/plain": [
       "<Figure size 432x288 with 1 Axes>"
      ]
     },
     "metadata": {
      "needs_background": "light"
     },
     "output_type": "display_data"
    }
   ],
   "source": [
    "distribution_plot(step6_df,70,70,75,70)"
   ]
  },
  {
   "cell_type": "code",
   "execution_count": 92,
   "id": "dad2df5d",
   "metadata": {},
   "outputs": [
    {
     "data": {
      "image/png": "[encoded data removed]",
      "text/plain": [
       "<Figure size 432x288 with 1 Axes>"
      ]
     },
     "metadata": {
      "needs_background": "light"
     },
     "output_type": "display_data"
    },
    {
     "data": {
      "image/png": "[encoded data removed]",
      "text/plain": [
       "<Figure size 432x288 with 1 Axes>"
      ]
     },
     "metadata": {
      "needs_background": "light"
     },
     "output_type": "display_data"
    }
   ],
   "source": [
    "distribution_plot(step6_df,80,70,80,73)"
   ]
  },
  {
   "cell_type": "code",
   "execution_count": 104,
   "id": "12f8e600",
   "metadata": {},
   "outputs": [],
   "source": [
    "def confidence_interval(df,prev_length,match_score):\n",
    "    a = np.array(df[(df.Prev_Length==prev_length)&(df.Match_Score==match_score)][\"Browse_time\"])\n",
    "    return stats.t.interval(0.95, len(a)-1, loc=np.mean(a), scale=stats.sem(a))"
   ]
  },
  {
   "cell_type": "code",
   "execution_count": 105,
   "id": "83ca32bb",
   "metadata": {},
   "outputs": [
    {
     "data": {
      "text/plain": [
       "(10.327109413668087, 10.668534618029337)"
      ]
     },
     "execution_count": 105,
     "metadata": {},
     "output_type": "execute_result"
    }
   ],
   "source": [
    "confidence_interval(step6_df,75,80)"
   ]
  },
  {
   "cell_type": "code",
   "execution_count": 106,
   "id": "17531b9e",
   "metadata": {},
   "outputs": [
    {
     "data": {
      "text/plain": [
       "(9.923811992632668, 10.307159742624584)"
      ]
     },
     "execution_count": 106,
     "metadata": {},
     "output_type": "execute_result"
    }
   ],
   "source": [
    "confidence_interval(step6_df,75,75)#this one is the best"
   ]
  },
  {
   "cell_type": "code",
   "execution_count": 108,
   "id": "1e51e126",
   "metadata": {},
   "outputs": [
    {
     "data": {
      "text/plain": [
       "(10.21394438870409, 10.632628019314643)"
      ]
     },
     "execution_count": 108,
     "metadata": {},
     "output_type": "execute_result"
    }
   ],
   "source": [
    "confidence_interval(step6_df,70,78)"
   ]
  },
  {
   "cell_type": "code",
   "execution_count": 109,
   "id": "fe6acfd3",
   "metadata": {},
   "outputs": [
    {
     "data": {
      "text/plain": [
       "(10.103422597408109, 10.495387297172044)"
      ]
     },
     "execution_count": 109,
     "metadata": {},
     "output_type": "execute_result"
    }
   ],
   "source": [
    "confidence_interval(step6_df,70,70)"
   ]
  },
  {
   "cell_type": "code",
   "execution_count": 110,
   "id": "d366609c",
   "metadata": {},
   "outputs": [
    {
     "data": {
      "text/plain": [
       "(10.127373071678033, 10.499414601593692)"
      ]
     },
     "execution_count": 110,
     "metadata": {},
     "output_type": "execute_result"
    }
   ],
   "source": [
    "confidence_interval(step6_df,75,70)"
   ]
  },
  {
   "cell_type": "code",
   "execution_count": 111,
   "id": "56f10e71",
   "metadata": {},
   "outputs": [
    {
     "data": {
      "text/plain": [
       "(10.196265900192452, 10.581775449358853)"
      ]
     },
     "execution_count": 111,
     "metadata": {},
     "output_type": "execute_result"
    }
   ],
   "source": [
    "confidence_interval(step6_df,80,70)"
   ]
  }
 ],
 "metadata": {
  "kernelspec": {
   "display_name": "Python 3",
   "language": "python",
   "name": "python3"
  },
  "language_info": {
   "codemirror_mode": {
    "name": "ipython",
    "version": 3
   },
   "file_extension": ".py",
   "mimetype": "text/x-python",
   "name": "python",
   "nbconvert_exporter": "python",
   "pygments_lexer": "ipython3",
   "version": "3.8.8"
  },
  "toc": {
   "base_numbering": 1,
   "nav_menu": {},
   "number_sections": true,
   "sideBar": true,
   "skip_h1_title": false,
   "title_cell": "Table of Contents",
   "title_sidebar": "Contents",
   "toc_cell": false,
   "toc_position": {
    "height": "calc(100% - 180px)",
    "left": "10px",
    "top": "150px",
    "width": "426.667px"
   },
   "toc_section_display": true,
   "toc_window_display": true
  }
 },
 "nbformat": 4,
 "nbformat_minor": 5
}
